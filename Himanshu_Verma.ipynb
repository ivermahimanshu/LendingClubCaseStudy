{
 "cells": [
  {
   "cell_type": "markdown",
   "id": "776ae965",
   "metadata": {},
   "source": [
    "# EDA CASE STUDY\n",
    "## Lending Club Case Study\n",
    "\n",
    "We work for a consumer finance company which specialises in lending various types of loans to urban customers. The aim is to identify patterns which indicate if a person is likely to default, which may be used for taking actions such as denying the loan, reducing the amount of loan, lending (to risky applicants) at a higher interest rate, etc.\n",
    "\n",
    "- When the company receives a loan application, the company has to make a decision for loan approval based on the applicant’s profile. Two types of risks are associated with the bank’s decision:\n",
    "\n",
    "    - If the applicant is likely to repay the loan, then not approving the loan results in a loss of business to the company\n",
    "\n",
    "    - If the applicant is not likely to repay the loan, i.e. he/she is likely to default, then approving the loan may lead to a financial loss for the company\n",
    "    \n",
    "- When a person applies for a loan, there are two types of decisions that could be taken by the company:\n",
    "\n",
    "    - Loan accepted: If the company approves the loan, there are 3 possible scenarios described below:\n",
    "\n",
    "        - Fully paid: Applicant has fully paid the loan (the principal and the interest rate)\n",
    "\n",
    "        - Current: Applicant is in the process of paying the instalments, i.e. the tenure of the loan is not yet completed. These candidates are not labelled as 'defaulted'.\n",
    "\n",
    "        - Charged-off: Applicant has not paid the instalments in due time for a long period of time, i.e. he/she has defaulted on the loan \n",
    "    \n",
    "    - Loan rejected: The company had rejected the loan (because the candidate does not meet their requirements etc.). Since the loan was rejected, there is no transactional history of those applicants with the company and so this data is not available with the company (and thus in this dataset)\n",
    "\n",
    "\n",
    "### Business Objectives\n",
    "\n",
    "This company is the largest online loan marketplace, facilitating personal loans, business loans, and financing of medical procedures. Borrowers can easily access lower interest rate loans through a fast online interface. \n",
    "\n",
    " \n",
    "\n",
    "Like most other lending companies, lending loans to ‘risky’ applicants is the largest source of financial loss (called credit loss). Credit loss is the amount of money lost by the lender when the borrower refuses to pay or runs away with the money owed. In other words, borrowers who default cause the largest amount of loss to the lenders. In this case, the customers labelled as 'charged-off' are the 'defaulters'. \n",
    "\n",
    " \n",
    "\n",
    "If one is able to identify these risky loan applicants, then such loans can be reduced thereby cutting down the amount of credit loss. Identification of such applicants using EDA is the aim of this case study.\n",
    "\n",
    " \n",
    "\n",
    "In other words, the company wants to understand the driving factors (or driver variables) behind loan default, i.e. the variables which are strong indicators of default.  The company can utilise this knowledge for its portfolio and risk assessment. \n",
    "\n",
    "### Feature Description\n",
    "- ACC_NOW_DELINQ   :   The number of accounts on which the borrower is now delinquent.\n",
    "- ACC_OPEN_PAST_24MTHS   :   Number of trades opened in past 24 months.\n",
    "- ADDR_STATE   :   The state provided by the borrower in the loan application\n",
    "- ALL_UTIL   :   Balance to credit limit on all trades\n",
    "- ANNUAL_INC   :   The self-reported annual income provided by the borrower during                                registration.\n",
    "- ANNUAL_INC_JOINT   :   The combined self-reported annual income provided by the co-borrowers                          during registration\n",
    "- APPLICATION_TYPE   :   Indicates whether the loan is an individual application or a joint                            application with two co-borrowers\n",
    "- AVG_CUR_BAL   :   Average current balance of all accounts\n",
    "- BC_OPEN_TO_BUY   :   Total open to buy on revolving bankcards.\n",
    "- BC_UTIL   :   Ratio of total current balance to high credit/credit limit for all bankcard                   accounts.\n",
    "- CHARGEOFF_WITHIN_12_MTHS   :   Number of charge-offs within 12 months\n",
    "- COLLECTION_RECOVERY_FEE   :   post charge off collection fee\n",
    "- COLLECTIONS_12_MTHS_EX_MED   :   Number of collections in 12 months excluding medical                                          collections\n",
    "- DELINQ_2YRS   :   The number of 30+ days past-due incidences of delinquency in the borrower's                   credit file for the past 2 years\n",
    "- DELINQ_AMNT   :   The past-due amount owed for the accounts on which the borrower is now                         delinquent.\n",
    "- DESC   :   Loan description provided by the borrower\n",
    "- DTI   :   A ratio calculated using the borrower’s total monthly debt payments on the total               debt obligations, excluding mortgage and the requested LC loan, divided by the                 borrower’s self-reported monthly income.\n",
    "- DTI_JOINT   :   A ratio calculated using the co-borrowers' total monthly payments on the total                 debt obligations, excluding mortgages and the requested LC loan, divided by                   the co-borrowers' combined self-reported monthly income\n",
    "- EARLIEST_CR_LINE   :   The month the borrower's earliest reported credit line was opened\n",
    "- EMP_LENGTH   :   Employment length in years. Possible values are between 0 and 10 where 0                      means less than one year and 10 means ten or more years. \n",
    "- EMP_TITLE   :   The job title supplied by the Borrower when applying for the loan.*\n",
    "- FICO_RANGE_HIGH   :   The upper boundary range the borrower’s FICO at loan origination belongs                       to.\n",
    "- FICO_RANGE_LOW   :   The lower boundary range the borrower’s FICO at loan origination belongs                      to.\n",
    "- FUNDED_AMNT   :   The total amount committed to that loan at that point in time.\n",
    "- FUNDED_AMNT_INV   :   The total amount committed by investors for that loan at that point in                         time.\n",
    "- GRADE   :   LC assigned loan grade\n",
    "- HOME_OWNERSHIP   :   The home ownership status provided by the borrower during registration.                        Our values are: RENT, OWN, MORTGAGE, OTHER.\n",
    "- ID   :   A unique LC assigned ID for the loan listing.\n",
    "- IL_UTIL   :   Ratio of total current balance to high credit/credit limit on all install acct\n",
    "- INITIAL_LIST_STATUS   :   The initial listing status of the loan. Possible values are – W, F\n",
    "- INQ_FI   :   Number of personal finance inquiries\n",
    "- INQ_LAST_12M   :   Number of credit inquiries in past 12 months\n",
    "- INQ_LAST_6MTHS   :   The number of inquiries in past 6 months (excluding auto and mortgage                          inquiries)\n",
    "- INSTALLMENT   :   The monthly payment owed by the borrower if the loan originates.\n",
    "- INT_RATE   :   Interest Rate on the loan\n",
    "- ISSUE_D   :   The month which the loan was funded\n",
    "- LAST_CREDIT_PULL_D   :   The most recent month LC pulled credit for this loan\n",
    "- LAST_FICO_RANGE_HIGH   :   The upper boundary range the borrower’s last FICO pulled belongs                              to.\n",
    "- LAST_FICO_RANGE_LOW   :   The lower boundary range the borrower’s last FICO pulled belongs to.\n",
    "- LAST_PYMNT_AMNT   :   Last total payment amount received\n",
    "- LAST_PYMNT_D   :   Last month payment was received\n",
    "- LOAN_AMNT   :   The listed amount of the loan applied for by the borrower. If at some point in                 time, the credit department reduces the loan amount, then it will be reflected                 in this value.\n",
    "- LOAN_STATUS   :   Current status of the loan\n",
    "- MAX_BAL_BC   :   Maximum current balance owed on all revolving accounts\n",
    "- MEMBER_ID   :   A unique LC assigned Id for the borrower member.\n",
    "- MO_SIN_OLD_IL_ACCT   :   Months since oldest bank installment account opened\n",
    "- MO_SIN_OLD_REV_TL_OP   :   Months since oldest revolving account opened\n",
    "- MO_SIN_RCNT_REV_TL_OP   :   Months since most recent revolving account opened\n",
    "- MTHS_SINCE_LAST_DELINQ   :   The number of months since the borrower's last delinquency.\n",
    "- MTHS_SINCE_LAST_MAJOR_DEROG   :   Months since most recent 90-day or worse rating\n",
    "- MTHS_SINCE_LAST_RECORD   :   The number of months since the last public record.\n",
    "- MTHS_SINCE_RCNT_IL   :   Months since most recent installment accounts opened\n",
    "- MTHS_SINCE_RECENT_BC   :   Months since most recent bankcard account opened.\n",
    "- MTHS_SINCE_RECENT_BC_DLQ   :   Months since most recent bankcard delinquency\n",
    "- MTHS_SINCE_RECENT_INQ   :   Months since most recent inquiry.\n",
    "- MTHS_SINCE_RECENT_REVOL_DELINQ   :   Months since most recent revolving delinquency.\n",
    "- NEXT_PYMNT_D   :   Next scheduled payment date\n",
    "- NUM_ACCTS_EVER_120_PD   :   Number of accounts ever 120 or more days past due\n",
    "- NUM_ACTV_BC_TL   :   Number of currently active bankcard accounts\n",
    "- NUM_ACTV_REV_TL   :   Number of currently active revolving trades\n",
    "- NUM_BC_SATS   :   Number of satisfactory bankcard accounts\n",
    "- NUM_BC_TL   :   Number of bankcard accounts\n",
    "- NUM_IL_TL   :   Number of installment accounts\n",
    "- NUM_OP_REV_TL   :   Number of open revolving accounts\n",
    "- NUM_REV_ACCTS   :   Number of revolving accounts\n",
    "- NUM_REV_TL_BAL_GT_0   :   Number of revolving trades with balance >0\n",
    "- NUM_SATS   :   Number of satisfactory accounts\n",
    "- NUM_TL_120DPD_2M   :   Number of accounts currently 120 days past due (updated in past 2                              months)\n",
    "- NUM_TL_30DPD   :   Number of accounts currently 30 days past due (updated in past 2 months)\n",
    "- NUM_TL_90G_DPD_24M   :   Number of accounts 90 or more days past due in last 24 months\n",
    "- NUM_TL_OP_PAST_12M   :   Number of accounts opened in past 12 months\n",
    "- OPEN_ACC   :   The number of open credit lines in the borrower's credit file.\n",
    "- OPEN_ACC_6M   :   Number of open trades in last 6 months\n",
    "- OPEN_IL_12M   :   Number of installment accounts opened in past 12 months\n",
    "- OPEN_IL_24M   :   Number of installment accounts opened in past 24 months\n",
    "- OPEN_IL_6M   :   Number of currently active installment trades\n",
    "- OPEN_RV_12M   :   Number of revolving trades opened in past 12 months\n",
    "- OPEN_RV_24M   :   Number of revolving trades opened in past 24 months\n",
    "- OUT_PRNCP   :   Remaining outstanding principal for total amount funded\n",
    "- OUT_PRNCP_INV   :   Remaining outstanding principal for portion of total amount funded by                         investors\n",
    "- PCT_TL_NVR_DLQ   :   Percent of trades never delinquent\n",
    "- PERCENT_BC_GT_75   :   Percentage of all bankcard accounts > 75% of limit.\n",
    "- POLICY_CODE   :   publicly available policy_code=1 new products not publicly available                           policy_code=2\n",
    "- PUB_REC   :   Number of derogatory public records\n",
    "- PUB_REC_BANKRUPTCIES   :   Number of public record bankruptcies\n",
    "- PURPOSE   :   A category provided by the borrower for the loan request. \n",
    "- PYMNT_PLAN   :   Indicates if a payment plan has been put in place for the loan\n",
    "- RECOVERIES   :   post charge off gross recovery\n",
    "- REVOL_BAL   :   Total credit revolving balance\n",
    "- REVOL_UTIL   :   Revolving line utilization rate, or the amount of credit the borrower is                        using relative to all available revolving credit.\n",
    "- SUB_GRADE   :   LC assigned loan subgrade\n",
    "- TAX_LIENS   :   Number of tax liens\n",
    "- TERM   :   The number of payments on the loan. Values are in months and can be either 36 or              60.\n",
    "- TITLE   :   The loan title provided by the borrower\n",
    "- TOT_COLL_AMT   :   Total collection amounts ever owed\n",
    "- TOT_CUR_BAL   :   Total current balance of all accounts\n",
    "- TOT_HI_CRED_LIM   :   Total high credit/credit limit\n",
    "- TOTAL_ACC   :   The total number of credit lines currently in the borrower's credit file\n",
    "- TOTAL_BAL_EX_MORT   :   Total credit balance excluding mortgage\n",
    "- TOTAL_BAL_IL   :   Total current balance of all installment accounts\n",
    "- TOTAL_BC_LIMIT   :   Total bankcard high credit/credit limit\n",
    "- TOTAL_CU_TL   :   Number of finance trades\n",
    "- TOTAL_IL_HIGH_CREDIT_LIMIT   :   Total installment high credit/credit limit\n",
    "- TOTAL_PYMNT   :   Payments received to date for total amount funded\n",
    "- TOTAL_PYMNT_INV   :   Payments received to date for portion of total amount funded by                               investors\n",
    "- TOTAL_REC_INT   :   Interest received to date\n",
    "- TOTAL_REC_LATE_FEE   :   Late fees received to date\n",
    "- TOTAL_REC_PRNCP   :   Principal received to date\n",
    "- TOTAL_REV_HI_LIM     :   Total revolving high credit/credit limit\n",
    "- URL   :   URL for the LC page with listing data.\n",
    "- VERIFICATION_STATUS   :   Indicates if income was verified by LC, not verified, or if the                               income source was verified\n",
    "- VERIFIED_STATUS_JOINT   :   Indicates if the co-borrowers' joint income was verified by LC,                               not verified, or if the income source was verified\n",
    "- ZIP_CODE   :   The first 3 numbers of the zip code provided by the borrower in the loan                      application.\n"
   ]
  },
  {
   "cell_type": "markdown",
   "id": "f28f3b40",
   "metadata": {},
   "source": [
    "#### Importing the Libraries"
   ]
  },
  {
   "cell_type": "code",
   "execution_count": 292,
   "id": "e803d587",
   "metadata": {},
   "outputs": [],
   "source": [
    "import numpy as np\n",
    "import pandas as pd\n",
    "import matplotlib.pyplot as plt\n",
    "import seaborn as sns\n",
    "import warnings\n",
    "warnings.filterwarnings('ignore')"
   ]
  },
  {
   "cell_type": "markdown",
   "id": "c2a11553",
   "metadata": {},
   "source": [
    "#### Reading the Dataset"
   ]
  },
  {
   "cell_type": "code",
   "execution_count": 293,
   "id": "46cee968",
   "metadata": {},
   "outputs": [],
   "source": [
    "df=pd.read_csv(\"loan.csv\")"
   ]
  },
  {
   "cell_type": "markdown",
   "id": "fea9a6b9",
   "metadata": {},
   "source": [
    "#### Analyzing/Understanding the Dataset with various commands"
   ]
  },
  {
   "cell_type": "code",
   "execution_count": 294,
   "id": "1d10b142",
   "metadata": {},
   "outputs": [
    {
     "data": {
      "text/plain": [
       "(39717, 111)"
      ]
     },
     "execution_count": 294,
     "metadata": {},
     "output_type": "execute_result"
    }
   ],
   "source": [
    "#shape of the dataset\n",
    "df.shape"
   ]
  },
  {
   "cell_type": "code",
   "execution_count": 295,
   "id": "5549e0b9",
   "metadata": {},
   "outputs": [
    {
     "data": {
      "text/html": [
       "<div>\n",
       "<style scoped>\n",
       "    .dataframe tbody tr th:only-of-type {\n",
       "        vertical-align: middle;\n",
       "    }\n",
       "\n",
       "    .dataframe tbody tr th {\n",
       "        vertical-align: top;\n",
       "    }\n",
       "\n",
       "    .dataframe thead th {\n",
       "        text-align: right;\n",
       "    }\n",
       "</style>\n",
       "<table border=\"1\" class=\"dataframe\">\n",
       "  <thead>\n",
       "    <tr style=\"text-align: right;\">\n",
       "      <th></th>\n",
       "      <th>id</th>\n",
       "      <th>member_id</th>\n",
       "      <th>loan_amnt</th>\n",
       "      <th>funded_amnt</th>\n",
       "      <th>funded_amnt_inv</th>\n",
       "      <th>term</th>\n",
       "      <th>int_rate</th>\n",
       "      <th>installment</th>\n",
       "      <th>grade</th>\n",
       "      <th>sub_grade</th>\n",
       "      <th>...</th>\n",
       "      <th>num_tl_90g_dpd_24m</th>\n",
       "      <th>num_tl_op_past_12m</th>\n",
       "      <th>pct_tl_nvr_dlq</th>\n",
       "      <th>percent_bc_gt_75</th>\n",
       "      <th>pub_rec_bankruptcies</th>\n",
       "      <th>tax_liens</th>\n",
       "      <th>tot_hi_cred_lim</th>\n",
       "      <th>total_bal_ex_mort</th>\n",
       "      <th>total_bc_limit</th>\n",
       "      <th>total_il_high_credit_limit</th>\n",
       "    </tr>\n",
       "  </thead>\n",
       "  <tbody>\n",
       "    <tr>\n",
       "      <th>0</th>\n",
       "      <td>1077501</td>\n",
       "      <td>1296599</td>\n",
       "      <td>5000</td>\n",
       "      <td>5000</td>\n",
       "      <td>4975.0</td>\n",
       "      <td>36 months</td>\n",
       "      <td>10.65%</td>\n",
       "      <td>162.87</td>\n",
       "      <td>B</td>\n",
       "      <td>B2</td>\n",
       "      <td>...</td>\n",
       "      <td>NaN</td>\n",
       "      <td>NaN</td>\n",
       "      <td>NaN</td>\n",
       "      <td>NaN</td>\n",
       "      <td>0.0</td>\n",
       "      <td>0.0</td>\n",
       "      <td>NaN</td>\n",
       "      <td>NaN</td>\n",
       "      <td>NaN</td>\n",
       "      <td>NaN</td>\n",
       "    </tr>\n",
       "    <tr>\n",
       "      <th>1</th>\n",
       "      <td>1077430</td>\n",
       "      <td>1314167</td>\n",
       "      <td>2500</td>\n",
       "      <td>2500</td>\n",
       "      <td>2500.0</td>\n",
       "      <td>60 months</td>\n",
       "      <td>15.27%</td>\n",
       "      <td>59.83</td>\n",
       "      <td>C</td>\n",
       "      <td>C4</td>\n",
       "      <td>...</td>\n",
       "      <td>NaN</td>\n",
       "      <td>NaN</td>\n",
       "      <td>NaN</td>\n",
       "      <td>NaN</td>\n",
       "      <td>0.0</td>\n",
       "      <td>0.0</td>\n",
       "      <td>NaN</td>\n",
       "      <td>NaN</td>\n",
       "      <td>NaN</td>\n",
       "      <td>NaN</td>\n",
       "    </tr>\n",
       "    <tr>\n",
       "      <th>2</th>\n",
       "      <td>1077175</td>\n",
       "      <td>1313524</td>\n",
       "      <td>2400</td>\n",
       "      <td>2400</td>\n",
       "      <td>2400.0</td>\n",
       "      <td>36 months</td>\n",
       "      <td>15.96%</td>\n",
       "      <td>84.33</td>\n",
       "      <td>C</td>\n",
       "      <td>C5</td>\n",
       "      <td>...</td>\n",
       "      <td>NaN</td>\n",
       "      <td>NaN</td>\n",
       "      <td>NaN</td>\n",
       "      <td>NaN</td>\n",
       "      <td>0.0</td>\n",
       "      <td>0.0</td>\n",
       "      <td>NaN</td>\n",
       "      <td>NaN</td>\n",
       "      <td>NaN</td>\n",
       "      <td>NaN</td>\n",
       "    </tr>\n",
       "    <tr>\n",
       "      <th>3</th>\n",
       "      <td>1076863</td>\n",
       "      <td>1277178</td>\n",
       "      <td>10000</td>\n",
       "      <td>10000</td>\n",
       "      <td>10000.0</td>\n",
       "      <td>36 months</td>\n",
       "      <td>13.49%</td>\n",
       "      <td>339.31</td>\n",
       "      <td>C</td>\n",
       "      <td>C1</td>\n",
       "      <td>...</td>\n",
       "      <td>NaN</td>\n",
       "      <td>NaN</td>\n",
       "      <td>NaN</td>\n",
       "      <td>NaN</td>\n",
       "      <td>0.0</td>\n",
       "      <td>0.0</td>\n",
       "      <td>NaN</td>\n",
       "      <td>NaN</td>\n",
       "      <td>NaN</td>\n",
       "      <td>NaN</td>\n",
       "    </tr>\n",
       "    <tr>\n",
       "      <th>4</th>\n",
       "      <td>1075358</td>\n",
       "      <td>1311748</td>\n",
       "      <td>3000</td>\n",
       "      <td>3000</td>\n",
       "      <td>3000.0</td>\n",
       "      <td>60 months</td>\n",
       "      <td>12.69%</td>\n",
       "      <td>67.79</td>\n",
       "      <td>B</td>\n",
       "      <td>B5</td>\n",
       "      <td>...</td>\n",
       "      <td>NaN</td>\n",
       "      <td>NaN</td>\n",
       "      <td>NaN</td>\n",
       "      <td>NaN</td>\n",
       "      <td>0.0</td>\n",
       "      <td>0.0</td>\n",
       "      <td>NaN</td>\n",
       "      <td>NaN</td>\n",
       "      <td>NaN</td>\n",
       "      <td>NaN</td>\n",
       "    </tr>\n",
       "  </tbody>\n",
       "</table>\n",
       "<p>5 rows × 111 columns</p>\n",
       "</div>"
      ],
      "text/plain": [
       "        id  member_id  loan_amnt  funded_amnt  funded_amnt_inv        term  \\\n",
       "0  1077501    1296599       5000         5000           4975.0   36 months   \n",
       "1  1077430    1314167       2500         2500           2500.0   60 months   \n",
       "2  1077175    1313524       2400         2400           2400.0   36 months   \n",
       "3  1076863    1277178      10000        10000          10000.0   36 months   \n",
       "4  1075358    1311748       3000         3000           3000.0   60 months   \n",
       "\n",
       "  int_rate  installment grade sub_grade  ... num_tl_90g_dpd_24m  \\\n",
       "0   10.65%       162.87     B        B2  ...                NaN   \n",
       "1   15.27%        59.83     C        C4  ...                NaN   \n",
       "2   15.96%        84.33     C        C5  ...                NaN   \n",
       "3   13.49%       339.31     C        C1  ...                NaN   \n",
       "4   12.69%        67.79     B        B5  ...                NaN   \n",
       "\n",
       "  num_tl_op_past_12m pct_tl_nvr_dlq  percent_bc_gt_75 pub_rec_bankruptcies  \\\n",
       "0                NaN            NaN               NaN                  0.0   \n",
       "1                NaN            NaN               NaN                  0.0   \n",
       "2                NaN            NaN               NaN                  0.0   \n",
       "3                NaN            NaN               NaN                  0.0   \n",
       "4                NaN            NaN               NaN                  0.0   \n",
       "\n",
       "  tax_liens tot_hi_cred_lim total_bal_ex_mort total_bc_limit  \\\n",
       "0       0.0             NaN               NaN            NaN   \n",
       "1       0.0             NaN               NaN            NaN   \n",
       "2       0.0             NaN               NaN            NaN   \n",
       "3       0.0             NaN               NaN            NaN   \n",
       "4       0.0             NaN               NaN            NaN   \n",
       "\n",
       "  total_il_high_credit_limit  \n",
       "0                        NaN  \n",
       "1                        NaN  \n",
       "2                        NaN  \n",
       "3                        NaN  \n",
       "4                        NaN  \n",
       "\n",
       "[5 rows x 111 columns]"
      ]
     },
     "execution_count": 295,
     "metadata": {},
     "output_type": "execute_result"
    }
   ],
   "source": [
    "# viewing the first 5 rows of the dataset to get an idea\n",
    "df.head()"
   ]
  },
  {
   "cell_type": "code",
   "execution_count": 296,
   "id": "d584c6a6",
   "metadata": {},
   "outputs": [
    {
     "data": {
      "text/plain": [
       "['id',\n",
       " 'member_id',\n",
       " 'loan_amnt',\n",
       " 'funded_amnt',\n",
       " 'funded_amnt_inv',\n",
       " 'term',\n",
       " 'int_rate',\n",
       " 'installment',\n",
       " 'grade',\n",
       " 'sub_grade',\n",
       " 'emp_title',\n",
       " 'emp_length',\n",
       " 'home_ownership',\n",
       " 'annual_inc',\n",
       " 'verification_status',\n",
       " 'issue_d',\n",
       " 'loan_status',\n",
       " 'pymnt_plan',\n",
       " 'url',\n",
       " 'desc',\n",
       " 'purpose',\n",
       " 'title',\n",
       " 'zip_code',\n",
       " 'addr_state',\n",
       " 'dti',\n",
       " 'delinq_2yrs',\n",
       " 'earliest_cr_line',\n",
       " 'inq_last_6mths',\n",
       " 'mths_since_last_delinq',\n",
       " 'mths_since_last_record',\n",
       " 'open_acc',\n",
       " 'pub_rec',\n",
       " 'revol_bal',\n",
       " 'revol_util',\n",
       " 'total_acc',\n",
       " 'initial_list_status',\n",
       " 'out_prncp',\n",
       " 'out_prncp_inv',\n",
       " 'total_pymnt',\n",
       " 'total_pymnt_inv',\n",
       " 'total_rec_prncp',\n",
       " 'total_rec_int',\n",
       " 'total_rec_late_fee',\n",
       " 'recoveries',\n",
       " 'collection_recovery_fee',\n",
       " 'last_pymnt_d',\n",
       " 'last_pymnt_amnt',\n",
       " 'next_pymnt_d',\n",
       " 'last_credit_pull_d',\n",
       " 'collections_12_mths_ex_med',\n",
       " 'mths_since_last_major_derog',\n",
       " 'policy_code',\n",
       " 'application_type',\n",
       " 'annual_inc_joint',\n",
       " 'dti_joint',\n",
       " 'verification_status_joint',\n",
       " 'acc_now_delinq',\n",
       " 'tot_coll_amt',\n",
       " 'tot_cur_bal',\n",
       " 'open_acc_6m',\n",
       " 'open_il_6m',\n",
       " 'open_il_12m',\n",
       " 'open_il_24m',\n",
       " 'mths_since_rcnt_il',\n",
       " 'total_bal_il',\n",
       " 'il_util',\n",
       " 'open_rv_12m',\n",
       " 'open_rv_24m',\n",
       " 'max_bal_bc',\n",
       " 'all_util',\n",
       " 'total_rev_hi_lim',\n",
       " 'inq_fi',\n",
       " 'total_cu_tl',\n",
       " 'inq_last_12m',\n",
       " 'acc_open_past_24mths',\n",
       " 'avg_cur_bal',\n",
       " 'bc_open_to_buy',\n",
       " 'bc_util',\n",
       " 'chargeoff_within_12_mths',\n",
       " 'delinq_amnt',\n",
       " 'mo_sin_old_il_acct',\n",
       " 'mo_sin_old_rev_tl_op',\n",
       " 'mo_sin_rcnt_rev_tl_op',\n",
       " 'mo_sin_rcnt_tl',\n",
       " 'mort_acc',\n",
       " 'mths_since_recent_bc',\n",
       " 'mths_since_recent_bc_dlq',\n",
       " 'mths_since_recent_inq',\n",
       " 'mths_since_recent_revol_delinq',\n",
       " 'num_accts_ever_120_pd',\n",
       " 'num_actv_bc_tl',\n",
       " 'num_actv_rev_tl',\n",
       " 'num_bc_sats',\n",
       " 'num_bc_tl',\n",
       " 'num_il_tl',\n",
       " 'num_op_rev_tl',\n",
       " 'num_rev_accts',\n",
       " 'num_rev_tl_bal_gt_0',\n",
       " 'num_sats',\n",
       " 'num_tl_120dpd_2m',\n",
       " 'num_tl_30dpd',\n",
       " 'num_tl_90g_dpd_24m',\n",
       " 'num_tl_op_past_12m',\n",
       " 'pct_tl_nvr_dlq',\n",
       " 'percent_bc_gt_75',\n",
       " 'pub_rec_bankruptcies',\n",
       " 'tax_liens',\n",
       " 'tot_hi_cred_lim',\n",
       " 'total_bal_ex_mort',\n",
       " 'total_bc_limit',\n",
       " 'total_il_high_credit_limit']"
      ]
     },
     "execution_count": 296,
     "metadata": {},
     "output_type": "execute_result"
    }
   ],
   "source": [
    "# viewing the columns of the dataset\n",
    "df.columns.tolist()"
   ]
  },
  {
   "cell_type": "code",
   "execution_count": 297,
   "id": "5a606a02",
   "metadata": {},
   "outputs": [
    {
     "name": "stdout",
     "output_type": "stream",
     "text": [
      "<class 'pandas.core.frame.DataFrame'>\n",
      "RangeIndex: 39717 entries, 0 to 39716\n",
      "Columns: 111 entries, id to total_il_high_credit_limit\n",
      "dtypes: float64(74), int64(13), object(24)\n",
      "memory usage: 33.6+ MB\n"
     ]
    }
   ],
   "source": [
    "# getting the necessary gist of the dataset\n",
    "df.info()"
   ]
  },
  {
   "cell_type": "code",
   "execution_count": 298,
   "id": "2691ca5a",
   "metadata": {},
   "outputs": [
    {
     "data": {
      "text/html": [
       "<div>\n",
       "<style scoped>\n",
       "    .dataframe tbody tr th:only-of-type {\n",
       "        vertical-align: middle;\n",
       "    }\n",
       "\n",
       "    .dataframe tbody tr th {\n",
       "        vertical-align: top;\n",
       "    }\n",
       "\n",
       "    .dataframe thead th {\n",
       "        text-align: right;\n",
       "    }\n",
       "</style>\n",
       "<table border=\"1\" class=\"dataframe\">\n",
       "  <thead>\n",
       "    <tr style=\"text-align: right;\">\n",
       "      <th></th>\n",
       "      <th>id</th>\n",
       "      <th>member_id</th>\n",
       "      <th>loan_amnt</th>\n",
       "      <th>funded_amnt</th>\n",
       "      <th>funded_amnt_inv</th>\n",
       "      <th>installment</th>\n",
       "      <th>annual_inc</th>\n",
       "      <th>dti</th>\n",
       "      <th>delinq_2yrs</th>\n",
       "      <th>inq_last_6mths</th>\n",
       "      <th>...</th>\n",
       "      <th>num_tl_90g_dpd_24m</th>\n",
       "      <th>num_tl_op_past_12m</th>\n",
       "      <th>pct_tl_nvr_dlq</th>\n",
       "      <th>percent_bc_gt_75</th>\n",
       "      <th>pub_rec_bankruptcies</th>\n",
       "      <th>tax_liens</th>\n",
       "      <th>tot_hi_cred_lim</th>\n",
       "      <th>total_bal_ex_mort</th>\n",
       "      <th>total_bc_limit</th>\n",
       "      <th>total_il_high_credit_limit</th>\n",
       "    </tr>\n",
       "  </thead>\n",
       "  <tbody>\n",
       "    <tr>\n",
       "      <th>count</th>\n",
       "      <td>3.971700e+04</td>\n",
       "      <td>3.971700e+04</td>\n",
       "      <td>39717.000000</td>\n",
       "      <td>39717.000000</td>\n",
       "      <td>39717.000000</td>\n",
       "      <td>39717.000000</td>\n",
       "      <td>3.971700e+04</td>\n",
       "      <td>39717.000000</td>\n",
       "      <td>39717.000000</td>\n",
       "      <td>39717.000000</td>\n",
       "      <td>...</td>\n",
       "      <td>0.0</td>\n",
       "      <td>0.0</td>\n",
       "      <td>0.0</td>\n",
       "      <td>0.0</td>\n",
       "      <td>39020.000000</td>\n",
       "      <td>39678.0</td>\n",
       "      <td>0.0</td>\n",
       "      <td>0.0</td>\n",
       "      <td>0.0</td>\n",
       "      <td>0.0</td>\n",
       "    </tr>\n",
       "    <tr>\n",
       "      <th>mean</th>\n",
       "      <td>6.831319e+05</td>\n",
       "      <td>8.504636e+05</td>\n",
       "      <td>11219.443815</td>\n",
       "      <td>10947.713196</td>\n",
       "      <td>10397.448868</td>\n",
       "      <td>324.561922</td>\n",
       "      <td>6.896893e+04</td>\n",
       "      <td>13.315130</td>\n",
       "      <td>0.146512</td>\n",
       "      <td>0.869200</td>\n",
       "      <td>...</td>\n",
       "      <td>NaN</td>\n",
       "      <td>NaN</td>\n",
       "      <td>NaN</td>\n",
       "      <td>NaN</td>\n",
       "      <td>0.043260</td>\n",
       "      <td>0.0</td>\n",
       "      <td>NaN</td>\n",
       "      <td>NaN</td>\n",
       "      <td>NaN</td>\n",
       "      <td>NaN</td>\n",
       "    </tr>\n",
       "    <tr>\n",
       "      <th>std</th>\n",
       "      <td>2.106941e+05</td>\n",
       "      <td>2.656783e+05</td>\n",
       "      <td>7456.670694</td>\n",
       "      <td>7187.238670</td>\n",
       "      <td>7128.450439</td>\n",
       "      <td>208.874874</td>\n",
       "      <td>6.379377e+04</td>\n",
       "      <td>6.678594</td>\n",
       "      <td>0.491812</td>\n",
       "      <td>1.070219</td>\n",
       "      <td>...</td>\n",
       "      <td>NaN</td>\n",
       "      <td>NaN</td>\n",
       "      <td>NaN</td>\n",
       "      <td>NaN</td>\n",
       "      <td>0.204324</td>\n",
       "      <td>0.0</td>\n",
       "      <td>NaN</td>\n",
       "      <td>NaN</td>\n",
       "      <td>NaN</td>\n",
       "      <td>NaN</td>\n",
       "    </tr>\n",
       "    <tr>\n",
       "      <th>min</th>\n",
       "      <td>5.473400e+04</td>\n",
       "      <td>7.069900e+04</td>\n",
       "      <td>500.000000</td>\n",
       "      <td>500.000000</td>\n",
       "      <td>0.000000</td>\n",
       "      <td>15.690000</td>\n",
       "      <td>4.000000e+03</td>\n",
       "      <td>0.000000</td>\n",
       "      <td>0.000000</td>\n",
       "      <td>0.000000</td>\n",
       "      <td>...</td>\n",
       "      <td>NaN</td>\n",
       "      <td>NaN</td>\n",
       "      <td>NaN</td>\n",
       "      <td>NaN</td>\n",
       "      <td>0.000000</td>\n",
       "      <td>0.0</td>\n",
       "      <td>NaN</td>\n",
       "      <td>NaN</td>\n",
       "      <td>NaN</td>\n",
       "      <td>NaN</td>\n",
       "    </tr>\n",
       "    <tr>\n",
       "      <th>25%</th>\n",
       "      <td>5.162210e+05</td>\n",
       "      <td>6.667800e+05</td>\n",
       "      <td>5500.000000</td>\n",
       "      <td>5400.000000</td>\n",
       "      <td>5000.000000</td>\n",
       "      <td>167.020000</td>\n",
       "      <td>4.040400e+04</td>\n",
       "      <td>8.170000</td>\n",
       "      <td>0.000000</td>\n",
       "      <td>0.000000</td>\n",
       "      <td>...</td>\n",
       "      <td>NaN</td>\n",
       "      <td>NaN</td>\n",
       "      <td>NaN</td>\n",
       "      <td>NaN</td>\n",
       "      <td>0.000000</td>\n",
       "      <td>0.0</td>\n",
       "      <td>NaN</td>\n",
       "      <td>NaN</td>\n",
       "      <td>NaN</td>\n",
       "      <td>NaN</td>\n",
       "    </tr>\n",
       "    <tr>\n",
       "      <th>50%</th>\n",
       "      <td>6.656650e+05</td>\n",
       "      <td>8.508120e+05</td>\n",
       "      <td>10000.000000</td>\n",
       "      <td>9600.000000</td>\n",
       "      <td>8975.000000</td>\n",
       "      <td>280.220000</td>\n",
       "      <td>5.900000e+04</td>\n",
       "      <td>13.400000</td>\n",
       "      <td>0.000000</td>\n",
       "      <td>1.000000</td>\n",
       "      <td>...</td>\n",
       "      <td>NaN</td>\n",
       "      <td>NaN</td>\n",
       "      <td>NaN</td>\n",
       "      <td>NaN</td>\n",
       "      <td>0.000000</td>\n",
       "      <td>0.0</td>\n",
       "      <td>NaN</td>\n",
       "      <td>NaN</td>\n",
       "      <td>NaN</td>\n",
       "      <td>NaN</td>\n",
       "    </tr>\n",
       "    <tr>\n",
       "      <th>75%</th>\n",
       "      <td>8.377550e+05</td>\n",
       "      <td>1.047339e+06</td>\n",
       "      <td>15000.000000</td>\n",
       "      <td>15000.000000</td>\n",
       "      <td>14400.000000</td>\n",
       "      <td>430.780000</td>\n",
       "      <td>8.230000e+04</td>\n",
       "      <td>18.600000</td>\n",
       "      <td>0.000000</td>\n",
       "      <td>1.000000</td>\n",
       "      <td>...</td>\n",
       "      <td>NaN</td>\n",
       "      <td>NaN</td>\n",
       "      <td>NaN</td>\n",
       "      <td>NaN</td>\n",
       "      <td>0.000000</td>\n",
       "      <td>0.0</td>\n",
       "      <td>NaN</td>\n",
       "      <td>NaN</td>\n",
       "      <td>NaN</td>\n",
       "      <td>NaN</td>\n",
       "    </tr>\n",
       "    <tr>\n",
       "      <th>max</th>\n",
       "      <td>1.077501e+06</td>\n",
       "      <td>1.314167e+06</td>\n",
       "      <td>35000.000000</td>\n",
       "      <td>35000.000000</td>\n",
       "      <td>35000.000000</td>\n",
       "      <td>1305.190000</td>\n",
       "      <td>6.000000e+06</td>\n",
       "      <td>29.990000</td>\n",
       "      <td>11.000000</td>\n",
       "      <td>8.000000</td>\n",
       "      <td>...</td>\n",
       "      <td>NaN</td>\n",
       "      <td>NaN</td>\n",
       "      <td>NaN</td>\n",
       "      <td>NaN</td>\n",
       "      <td>2.000000</td>\n",
       "      <td>0.0</td>\n",
       "      <td>NaN</td>\n",
       "      <td>NaN</td>\n",
       "      <td>NaN</td>\n",
       "      <td>NaN</td>\n",
       "    </tr>\n",
       "  </tbody>\n",
       "</table>\n",
       "<p>8 rows × 87 columns</p>\n",
       "</div>"
      ],
      "text/plain": [
       "                 id     member_id     loan_amnt   funded_amnt  \\\n",
       "count  3.971700e+04  3.971700e+04  39717.000000  39717.000000   \n",
       "mean   6.831319e+05  8.504636e+05  11219.443815  10947.713196   \n",
       "std    2.106941e+05  2.656783e+05   7456.670694   7187.238670   \n",
       "min    5.473400e+04  7.069900e+04    500.000000    500.000000   \n",
       "25%    5.162210e+05  6.667800e+05   5500.000000   5400.000000   \n",
       "50%    6.656650e+05  8.508120e+05  10000.000000   9600.000000   \n",
       "75%    8.377550e+05  1.047339e+06  15000.000000  15000.000000   \n",
       "max    1.077501e+06  1.314167e+06  35000.000000  35000.000000   \n",
       "\n",
       "       funded_amnt_inv   installment    annual_inc           dti  \\\n",
       "count     39717.000000  39717.000000  3.971700e+04  39717.000000   \n",
       "mean      10397.448868    324.561922  6.896893e+04     13.315130   \n",
       "std        7128.450439    208.874874  6.379377e+04      6.678594   \n",
       "min           0.000000     15.690000  4.000000e+03      0.000000   \n",
       "25%        5000.000000    167.020000  4.040400e+04      8.170000   \n",
       "50%        8975.000000    280.220000  5.900000e+04     13.400000   \n",
       "75%       14400.000000    430.780000  8.230000e+04     18.600000   \n",
       "max       35000.000000   1305.190000  6.000000e+06     29.990000   \n",
       "\n",
       "        delinq_2yrs  inq_last_6mths  ...  num_tl_90g_dpd_24m  \\\n",
       "count  39717.000000    39717.000000  ...                 0.0   \n",
       "mean       0.146512        0.869200  ...                 NaN   \n",
       "std        0.491812        1.070219  ...                 NaN   \n",
       "min        0.000000        0.000000  ...                 NaN   \n",
       "25%        0.000000        0.000000  ...                 NaN   \n",
       "50%        0.000000        1.000000  ...                 NaN   \n",
       "75%        0.000000        1.000000  ...                 NaN   \n",
       "max       11.000000        8.000000  ...                 NaN   \n",
       "\n",
       "       num_tl_op_past_12m  pct_tl_nvr_dlq  percent_bc_gt_75  \\\n",
       "count                 0.0             0.0               0.0   \n",
       "mean                  NaN             NaN               NaN   \n",
       "std                   NaN             NaN               NaN   \n",
       "min                   NaN             NaN               NaN   \n",
       "25%                   NaN             NaN               NaN   \n",
       "50%                   NaN             NaN               NaN   \n",
       "75%                   NaN             NaN               NaN   \n",
       "max                   NaN             NaN               NaN   \n",
       "\n",
       "       pub_rec_bankruptcies  tax_liens  tot_hi_cred_lim  total_bal_ex_mort  \\\n",
       "count          39020.000000    39678.0              0.0                0.0   \n",
       "mean               0.043260        0.0              NaN                NaN   \n",
       "std                0.204324        0.0              NaN                NaN   \n",
       "min                0.000000        0.0              NaN                NaN   \n",
       "25%                0.000000        0.0              NaN                NaN   \n",
       "50%                0.000000        0.0              NaN                NaN   \n",
       "75%                0.000000        0.0              NaN                NaN   \n",
       "max                2.000000        0.0              NaN                NaN   \n",
       "\n",
       "       total_bc_limit  total_il_high_credit_limit  \n",
       "count             0.0                         0.0  \n",
       "mean              NaN                         NaN  \n",
       "std               NaN                         NaN  \n",
       "min               NaN                         NaN  \n",
       "25%               NaN                         NaN  \n",
       "50%               NaN                         NaN  \n",
       "75%               NaN                         NaN  \n",
       "max               NaN                         NaN  \n",
       "\n",
       "[8 rows x 87 columns]"
      ]
     },
     "execution_count": 298,
     "metadata": {},
     "output_type": "execute_result"
    }
   ],
   "source": [
    "# viewing some analytical measures of the dataset\n",
    "df.describe()"
   ]
  },
  {
   "cell_type": "markdown",
   "id": "8e9a41a4",
   "metadata": {},
   "source": [
    "### Here , we see that many of the cols have null values. this should be noted. Also there are many columns, which can br dropped since they don't constitute enough in loan defaulter analysis. We need to remove them too."
   ]
  },
  {
   "cell_type": "code",
   "execution_count": 299,
   "id": "3d7ef840",
   "metadata": {},
   "outputs": [
    {
     "data": {
      "text/plain": [
       "0.5133989643393677"
      ]
     },
     "execution_count": 299,
     "metadata": {},
     "output_type": "execute_result"
    }
   ],
   "source": [
    "# checking the total percentage of null values the dataset\n",
    "(df.isnull().sum().sum())/(df.shape[0]*df.shape[1])"
   ]
  },
  {
   "cell_type": "markdown",
   "id": "0481acc4",
   "metadata": {},
   "source": [
    "### We can see that around 51% of the values are null in this dataset. we will now look at how many columns have more null values and how many have less. we will divide them on the basis of null value percentages in every column"
   ]
  },
  {
   "cell_type": "code",
   "execution_count": 300,
   "id": "82ffb068",
   "metadata": {},
   "outputs": [
    {
     "data": {
      "text/plain": [
       "<AxesSubplot:>"
      ]
     },
     "execution_count": 300,
     "metadata": {},
     "output_type": "execute_result"
    },
    {
     "data": {
      "image/png": "[encoded data removed]",
      "text/plain": [
       "<Figure size 432x288 with 2 Axes>"
      ]
     },
     "metadata": {
      "needs_background": "light"
     },
     "output_type": "display_data"
    }
   ],
   "source": [
    "# Null value visualization\n",
    "sns.heatmap(df.isnull())"
   ]
  },
  {
   "cell_type": "markdown",
   "id": "5c736c1b",
   "metadata": {},
   "source": [
    "### Here, we see that many columns are absolute null i.e they are totally empty. we will create a dataframe to see the how many columns have how much percentage of null values"
   ]
  },
  {
   "cell_type": "code",
   "execution_count": 301,
   "id": "c23bde32",
   "metadata": {},
   "outputs": [],
   "source": [
    "ten_perc_cols = len(df.columns[((df.isnull().sum())/len(df))<0.1])\n",
    "twe_perc_cols = len(df.columns[((df.isnull().sum())/len(df))<0.2])\n",
    "thi_perc_cols = len(df.columns[((df.isnull().sum())/len(df))<0.3])\n",
    "for_perc_cols = len(df.columns[((df.isnull().sum())/len(df))<0.4])\n",
    "fif_perc_cols = len(df.columns[((df.isnull().sum())/len(df))<0.5])\n",
    "six_perc_cols = len(df.columns[((df.isnull().sum())/len(df))<0.6])\n",
    "sev_perc_cols = len(df.columns[((df.isnull().sum())/len(df))<0.7])\n",
    "eig_perc_cols = len(df.columns[((df.isnull().sum())/len(df))<0.8])\n",
    "nin_perc_cols = len(df.columns[((df.isnull().sum())/len(df))<0.9])\n",
    "hun_perc_cols = len(df.columns[((df.isnull().sum())/len(df))<1.0])"
   ]
  },
  {
   "cell_type": "code",
   "execution_count": 302,
   "id": "92ae1b81",
   "metadata": {},
   "outputs": [],
   "source": [
    "temp={'perc_null_values':['less than 10','less than 20','less than 30','less than 40','less than 50','less than 60','less than 70','less than 80','less than 90','less than 100'],'No of cols':[ten_perc_cols,twe_perc_cols,thi_perc_cols,for_perc_cols,fif_perc_cols,six_perc_cols,sev_perc_cols,eig_perc_cols,nin_perc_cols,hun_perc_cols]}"
   ]
  },
  {
   "cell_type": "code",
   "execution_count": 303,
   "id": "77278902",
   "metadata": {},
   "outputs": [
    {
     "data": {
      "text/html": [
       "<div>\n",
       "<style scoped>\n",
       "    .dataframe tbody tr th:only-of-type {\n",
       "        vertical-align: middle;\n",
       "    }\n",
       "\n",
       "    .dataframe tbody tr th {\n",
       "        vertical-align: top;\n",
       "    }\n",
       "\n",
       "    .dataframe thead th {\n",
       "        text-align: right;\n",
       "    }\n",
       "</style>\n",
       "<table border=\"1\" class=\"dataframe\">\n",
       "  <thead>\n",
       "    <tr style=\"text-align: right;\">\n",
       "      <th></th>\n",
       "      <th>perc_null_values</th>\n",
       "      <th>No of cols</th>\n",
       "    </tr>\n",
       "  </thead>\n",
       "  <tbody>\n",
       "    <tr>\n",
       "      <th>0</th>\n",
       "      <td>less than 10</td>\n",
       "      <td>53</td>\n",
       "    </tr>\n",
       "    <tr>\n",
       "      <th>1</th>\n",
       "      <td>less than 20</td>\n",
       "      <td>53</td>\n",
       "    </tr>\n",
       "    <tr>\n",
       "      <th>2</th>\n",
       "      <td>less than 30</td>\n",
       "      <td>53</td>\n",
       "    </tr>\n",
       "    <tr>\n",
       "      <th>3</th>\n",
       "      <td>less than 40</td>\n",
       "      <td>54</td>\n",
       "    </tr>\n",
       "    <tr>\n",
       "      <th>4</th>\n",
       "      <td>less than 50</td>\n",
       "      <td>54</td>\n",
       "    </tr>\n",
       "    <tr>\n",
       "      <th>5</th>\n",
       "      <td>less than 60</td>\n",
       "      <td>54</td>\n",
       "    </tr>\n",
       "    <tr>\n",
       "      <th>6</th>\n",
       "      <td>less than 70</td>\n",
       "      <td>55</td>\n",
       "    </tr>\n",
       "    <tr>\n",
       "      <th>7</th>\n",
       "      <td>less than 80</td>\n",
       "      <td>55</td>\n",
       "    </tr>\n",
       "    <tr>\n",
       "      <th>8</th>\n",
       "      <td>less than 90</td>\n",
       "      <td>55</td>\n",
       "    </tr>\n",
       "    <tr>\n",
       "      <th>9</th>\n",
       "      <td>less than 100</td>\n",
       "      <td>57</td>\n",
       "    </tr>\n",
       "  </tbody>\n",
       "</table>\n",
       "</div>"
      ],
      "text/plain": [
       "  perc_null_values  No of cols\n",
       "0     less than 10          53\n",
       "1     less than 20          53\n",
       "2     less than 30          53\n",
       "3     less than 40          54\n",
       "4     less than 50          54\n",
       "5     less than 60          54\n",
       "6     less than 70          55\n",
       "7     less than 80          55\n",
       "8     less than 90          55\n",
       "9    less than 100          57"
      ]
     },
     "execution_count": 303,
     "metadata": {},
     "output_type": "execute_result"
    }
   ],
   "source": [
    "null_perc_df = pd.DataFrame(temp)\n",
    "null_perc_df"
   ]
  },
  {
   "cell_type": "code",
   "execution_count": 304,
   "id": "6945e16c",
   "metadata": {},
   "outputs": [
    {
     "data": {
      "text/plain": [
       "54"
      ]
     },
     "execution_count": 304,
     "metadata": {},
     "output_type": "execute_result"
    }
   ],
   "source": [
    "# Total number of null columns\n",
    "len(df.columns[((df.isnull().sum())/len(df))==1.0])"
   ]
  },
  {
   "cell_type": "code",
   "execution_count": 305,
   "id": "fd93d728",
   "metadata": {},
   "outputs": [
    {
     "data": {
      "text/plain": [
       "Index(['mths_since_last_major_derog', 'annual_inc_joint', 'dti_joint',\n",
       "       'verification_status_joint', 'tot_coll_amt', 'tot_cur_bal',\n",
       "       'open_acc_6m', 'open_il_6m', 'open_il_12m', 'open_il_24m',\n",
       "       'mths_since_rcnt_il', 'total_bal_il', 'il_util', 'open_rv_12m',\n",
       "       'open_rv_24m', 'max_bal_bc', 'all_util', 'total_rev_hi_lim', 'inq_fi',\n",
       "       'total_cu_tl', 'inq_last_12m', 'acc_open_past_24mths', 'avg_cur_bal',\n",
       "       'bc_open_to_buy', 'bc_util', 'mo_sin_old_il_acct',\n",
       "       'mo_sin_old_rev_tl_op', 'mo_sin_rcnt_rev_tl_op', 'mo_sin_rcnt_tl',\n",
       "       'mort_acc', 'mths_since_recent_bc', 'mths_since_recent_bc_dlq',\n",
       "       'mths_since_recent_inq', 'mths_since_recent_revol_delinq',\n",
       "       'num_accts_ever_120_pd', 'num_actv_bc_tl', 'num_actv_rev_tl',\n",
       "       'num_bc_sats', 'num_bc_tl', 'num_il_tl', 'num_op_rev_tl',\n",
       "       'num_rev_accts', 'num_rev_tl_bal_gt_0', 'num_sats', 'num_tl_120dpd_2m',\n",
       "       'num_tl_30dpd', 'num_tl_90g_dpd_24m', 'num_tl_op_past_12m',\n",
       "       'pct_tl_nvr_dlq', 'percent_bc_gt_75', 'tot_hi_cred_lim',\n",
       "       'total_bal_ex_mort', 'total_bc_limit', 'total_il_high_credit_limit'],\n",
       "      dtype='object')"
      ]
     },
     "execution_count": 305,
     "metadata": {},
     "output_type": "execute_result"
    }
   ],
   "source": [
    "# Viewing totally null columns\n",
    "df.columns[(df.isnull().sum()/len(df))==1]"
   ]
  },
  {
   "cell_type": "markdown",
   "id": "f0f2db15",
   "metadata": {},
   "source": [
    "### Above hypothesis shows us that 54 columns are totally null. They should be removed as they won't contribute in analysis"
   ]
  },
  {
   "cell_type": "code",
   "execution_count": 306,
   "id": "18b8cd79",
   "metadata": {},
   "outputs": [],
   "source": [
    "# Removing the totally null columns\n",
    "df=df[df.columns[-((df.isnull().sum()/len(df))==1)]]"
   ]
  },
  {
   "cell_type": "code",
   "execution_count": 307,
   "id": "56e94ed9",
   "metadata": {},
   "outputs": [
    {
     "data": {
      "text/plain": [
       "(39717, 57)"
      ]
     },
     "execution_count": 307,
     "metadata": {},
     "output_type": "execute_result"
    }
   ],
   "source": [
    "df.shape"
   ]
  },
  {
   "cell_type": "code",
   "execution_count": 308,
   "id": "c72d4c48",
   "metadata": {},
   "outputs": [
    {
     "data": {
      "text/plain": [
       "3"
      ]
     },
     "execution_count": 308,
     "metadata": {},
     "output_type": "execute_result"
    }
   ],
   "source": [
    "# Checking columns which have more than 60% null values after removing totally null columns\n",
    "len(df.columns[df.isnull().sum()/len(df)>0.6])"
   ]
  },
  {
   "cell_type": "markdown",
   "id": "9bbec399",
   "metadata": {},
   "source": [
    "### Now there are 3 columns which have more than 60% null values. We shall remove them too."
   ]
  },
  {
   "cell_type": "code",
   "execution_count": 309,
   "id": "8cdb3583",
   "metadata": {},
   "outputs": [],
   "source": [
    "df=df[df.columns[-((df.isnull().sum()/len(df))>0.6)]]"
   ]
  },
  {
   "cell_type": "code",
   "execution_count": 310,
   "id": "4a44a32d",
   "metadata": {},
   "outputs": [
    {
     "data": {
      "text/plain": [
       "(39717, 54)"
      ]
     },
     "execution_count": 310,
     "metadata": {},
     "output_type": "execute_result"
    }
   ],
   "source": [
    "df.shape"
   ]
  },
  {
   "cell_type": "markdown",
   "id": "9badc662",
   "metadata": {},
   "source": [
    "### Now our dataset has 54 columns to analyse. If we look at the null percentage dataframe(null_perc_df), we could see that 54 columns have less than 40% null values which is same as 60%"
   ]
  },
  {
   "cell_type": "markdown",
   "id": "65aa7b98",
   "metadata": {},
   "source": [
    "### We need to now analyze the reamaning features and look which should be kept and which should be deleted"
   ]
  },
  {
   "cell_type": "code",
   "execution_count": 311,
   "id": "ae1c298b",
   "metadata": {
    "scrolled": false
   },
   "outputs": [
    {
     "name": "stdout",
     "output_type": "stream",
     "text": [
      "1077501    1\n",
      "568534     1\n",
      "568659     1\n",
      "567165     1\n",
      "568531     1\n",
      "          ..\n",
      "785667     1\n",
      "785659     1\n",
      "785630     1\n",
      "785626     1\n",
      "87023      1\n",
      "Name: id, Length: 39717, dtype: int64\n",
      "********************************************************************************\n",
      "1296599    1\n",
      "731393     1\n",
      "731544     1\n",
      "729629     1\n",
      "731390     1\n",
      "          ..\n",
      "989001     1\n",
      "988993     1\n",
      "988959     1\n",
      "988954     1\n",
      "86999      1\n",
      "Name: member_id, Length: 39717, dtype: int64\n",
      "********************************************************************************\n",
      "10000    2833\n",
      "12000    2334\n",
      "5000     2051\n",
      "6000     1908\n",
      "15000    1895\n",
      "         ... \n",
      "22875       1\n",
      "8175        1\n",
      "19475       1\n",
      "21225       1\n",
      "22550       1\n",
      "Name: loan_amnt, Length: 885, dtype: int64\n",
      "********************************************************************************\n",
      "10000    2741\n",
      "12000    2244\n",
      "5000     2040\n",
      "6000     1898\n",
      "15000    1784\n",
      "         ... \n",
      "26250       1\n",
      "24725       1\n",
      "31750       1\n",
      "22625       1\n",
      "22350       1\n",
      "Name: funded_amnt, Length: 1041, dtype: int64\n",
      "********************************************************************************\n",
      "5000.000000     1309\n",
      "10000.000000    1275\n",
      "6000.000000     1200\n",
      "12000.000000    1069\n",
      "8000.000000      900\n",
      "                ... \n",
      "4944.213109        1\n",
      "18400.281660       1\n",
      "14659.820000       1\n",
      "6294.151315        1\n",
      "11808.924370       1\n",
      "Name: funded_amnt_inv, Length: 8205, dtype: int64\n",
      "********************************************************************************\n",
      " 36 months    29096\n",
      " 60 months    10621\n",
      "Name: term, dtype: int64\n",
      "********************************************************************************\n",
      "10.99%    956\n",
      "13.49%    826\n",
      "11.49%    825\n",
      "7.51%     787\n",
      "7.88%     725\n",
      "         ... \n",
      "18.36%      1\n",
      "16.96%      1\n",
      "16.15%      1\n",
      "16.01%      1\n",
      "17.44%      1\n",
      "Name: int_rate, Length: 371, dtype: int64\n",
      "********************************************************************************\n",
      "311.11     68\n",
      "180.96     59\n",
      "311.02     54\n",
      "150.80     48\n",
      "368.45     46\n",
      "           ..\n",
      "1224.46     1\n",
      "63.44       1\n",
      "157.67      1\n",
      "492.34      1\n",
      "255.43      1\n",
      "Name: installment, Length: 15383, dtype: int64\n",
      "********************************************************************************\n",
      "B    12020\n",
      "A    10085\n",
      "C     8098\n",
      "D     5307\n",
      "E     2842\n",
      "F     1049\n",
      "G      316\n",
      "Name: grade, dtype: int64\n",
      "********************************************************************************\n",
      "B3    2917\n",
      "A4    2886\n",
      "A5    2742\n",
      "B5    2704\n",
      "B4    2512\n",
      "C1    2136\n",
      "B2    2057\n",
      "C2    2011\n",
      "B1    1830\n",
      "A3    1810\n",
      "C3    1529\n",
      "A2    1508\n",
      "D2    1348\n",
      "C4    1236\n",
      "C5    1186\n",
      "D3    1173\n",
      "A1    1139\n",
      "D4     981\n",
      "D1     931\n",
      "D5     874\n",
      "E1     763\n",
      "E2     656\n",
      "E3     553\n",
      "E4     454\n",
      "E5     416\n",
      "F1     329\n",
      "F2     249\n",
      "F3     185\n",
      "F4     168\n",
      "F5     118\n",
      "G1     104\n",
      "G2      78\n",
      "G4      56\n",
      "G3      48\n",
      "G5      30\n",
      "Name: sub_grade, dtype: int64\n",
      "********************************************************************************\n",
      "US Army                              134\n",
      "Bank of America                      109\n",
      "IBM                                   66\n",
      "AT&T                                  59\n",
      "Kaiser Permanente                     56\n",
      "                                    ... \n",
      "Community College of Philadelphia      1\n",
      "AMEC                                   1\n",
      "lee county sheriff                     1\n",
      "Bacon County Board of Education        1\n",
      "Evergreen Center                       1\n",
      "Name: emp_title, Length: 28820, dtype: int64\n",
      "********************************************************************************\n",
      "10+ years    8879\n",
      "< 1 year     4583\n",
      "2 years      4388\n",
      "3 years      4095\n",
      "4 years      3436\n",
      "5 years      3282\n",
      "1 year       3240\n",
      "6 years      2229\n",
      "7 years      1773\n",
      "8 years      1479\n",
      "9 years      1258\n",
      "Name: emp_length, dtype: int64\n",
      "********************************************************************************\n",
      "RENT        18899\n",
      "MORTGAGE    17659\n",
      "OWN          3058\n",
      "OTHER          98\n",
      "NONE            3\n",
      "Name: home_ownership, dtype: int64\n",
      "********************************************************************************\n",
      "60000.0    1505\n",
      "50000.0    1057\n",
      "40000.0     876\n",
      "45000.0     830\n",
      "30000.0     825\n",
      "           ... \n",
      "56820.0       1\n",
      "45314.0       1\n",
      "53913.0       1\n",
      "62880.0       1\n",
      "27376.0       1\n",
      "Name: annual_inc, Length: 5318, dtype: int64\n",
      "********************************************************************************\n",
      "Not Verified       16921\n",
      "Verified           12809\n",
      "Source Verified     9987\n",
      "Name: verification_status, dtype: int64\n",
      "********************************************************************************\n",
      "Dec-11    2260\n",
      "Nov-11    2223\n",
      "Oct-11    2114\n",
      "Sep-11    2063\n",
      "Aug-11    1928\n",
      "Jul-11    1870\n",
      "Jun-11    1827\n",
      "May-11    1689\n",
      "Apr-11    1562\n",
      "Mar-11    1443\n",
      "Jan-11    1380\n",
      "Feb-11    1297\n",
      "Dec-10    1267\n",
      "Oct-10    1132\n",
      "Nov-10    1121\n",
      "Jul-10    1119\n",
      "Sep-10    1086\n",
      "Aug-10    1078\n",
      "Jun-10    1029\n",
      "May-10     920\n",
      "Apr-10     827\n",
      "Mar-10     737\n",
      "Feb-10     627\n",
      "Nov-09     602\n",
      "Dec-09     598\n",
      "Jan-10     589\n",
      "Oct-09     545\n",
      "Sep-09     449\n",
      "Aug-09     408\n",
      "Jul-09     374\n",
      "Jun-09     356\n",
      "May-09     319\n",
      "Apr-09     290\n",
      "Mar-09     276\n",
      "Feb-09     260\n",
      "Jan-09     239\n",
      "Mar-08     236\n",
      "Dec-08     223\n",
      "Nov-08     184\n",
      "Feb-08     174\n",
      "Jan-08     171\n",
      "Apr-08     155\n",
      "Oct-08      96\n",
      "Dec-07      85\n",
      "Jul-08      83\n",
      "May-08      71\n",
      "Aug-08      71\n",
      "Jun-08      66\n",
      "Oct-07      47\n",
      "Nov-07      37\n",
      "Aug-07      33\n",
      "Sep-08      32\n",
      "Jul-07      30\n",
      "Sep-07      18\n",
      "Jun-07       1\n",
      "Name: issue_d, dtype: int64\n",
      "********************************************************************************\n",
      "Fully Paid     32950\n",
      "Charged Off     5627\n",
      "Current         1140\n",
      "Name: loan_status, dtype: int64\n",
      "********************************************************************************\n",
      "n    39717\n",
      "Name: pymnt_plan, dtype: int64\n",
      "********************************************************************************\n",
      "https://lendingclub.com/browse/loanDetail.action?loan_id=1077501    1\n",
      "https://lendingclub.com/browse/loanDetail.action?loan_id=568534     1\n",
      "https://lendingclub.com/browse/loanDetail.action?loan_id=568659     1\n",
      "https://lendingclub.com/browse/loanDetail.action?loan_id=567165     1\n",
      "https://lendingclub.com/browse/loanDetail.action?loan_id=568531     1\n",
      "                                                                   ..\n",
      "https://lendingclub.com/browse/loanDetail.action?loan_id=785667     1\n",
      "https://lendingclub.com/browse/loanDetail.action?loan_id=785659     1\n",
      "https://lendingclub.com/browse/loanDetail.action?loan_id=785630     1\n",
      "https://lendingclub.com/browse/loanDetail.action?loan_id=785626     1\n",
      "https://lendingclub.com/browse/loanDetail.action?loan_id=87023      1\n",
      "Name: url, Length: 39717, dtype: int64\n",
      "********************************************************************************\n",
      "                                                                                                                                                                                                                                                                                                                                                                                                                                                                                                                                                                                                                                                                              210\n",
      "Debt Consolidation                                                                                                                                                                                                                                                                                                                                                                                                                                                                                                                                                                                                                                                              8\n",
      "Camping Membership                                                                                                                                                                                                                                                                                                                                                                                                                                                                                                                                                                                                                                                              6\n",
      "personal loan                                                                                                                                                                                                                                                                                                                                                                                                                                                                                                                                                                                                                                                                   3\n",
      "credit card consolidation                                                                                                                                                                                                                                                                                                                                                                                                                                                                                                                                                                                                                                                       3\n",
      "                                                                                                                                                                                                                                                                                                                                                                                                                                                                                                                                                                                                                                                                             ... \n",
      "  Borrower added on 05/13/11 > I have a very stable income and have &quot;NEVER&quot; been delinquent on any accounts. I am interested in consolidating my credit card accounts along with a personal loan for the benefit of paying one payment a month versus multiple. Thank you.<br/>                                                                                                                                                                                                                                                                                                                                                                                       1\n",
      "  Borrower added on 05/13/11 > This loan is to partially finance a car. The payments will be very manageable for me.<br/>                                                                                                                                                                                                                                                                                                                                                                                                                                                                                                                                                       1\n",
      "  Borrower added on 05/13/11 > I am consolidating my bills to make it cheaper on bills. I am up for a promotion at my job and have been here three years already. I also have a fiance that has a very reliable job who also helps with finances. My requirement is that all bills are paid on time if not early. This is to keep good standings with all businesses and keep a awesome credit score.<br/> Borrower added on 05/16/11 > I am asking for this loan to pay off bills with higher interest rates and have a lower payment every month.<br/>                                                                                                                        1\n",
      "  Borrower added on 05/13/11 > Debt Consolidation<br/> Borrower added on 05/13/11 > I plan to use this money to consolidate bills with high monthly payments and improve cash flow.<br/> Borrower added on 05/13/11 > I have good credit and I have a very stable, solid and professional job that I have held for a long time - over 20 years.  I have a Bachelor's degree and I'm currently working on a masters.<br/> Borrower added on 05/13/11 > My mortgage and utilities run approx less than 2k per month including taxes.  I have sufficient income to pay off this loan. I simply want to take my open accounts and consolidate them into one easy payment.<br/>      1\n",
      "I plan to consolidate over $7,000 of debt: a combination of credit cards and student loans.                                                                                                                                                                                                                                                                                                                                                                                                                                                                                                                                                                                     1\n",
      "Name: desc, Length: 26527, dtype: int64\n",
      "********************************************************************************\n",
      "debt_consolidation    18641\n",
      "credit_card            5130\n",
      "other                  3993\n",
      "home_improvement       2976\n",
      "major_purchase         2187\n",
      "small_business         1828\n",
      "car                    1549\n",
      "wedding                 947\n",
      "medical                 693\n",
      "moving                  583\n",
      "vacation                381\n",
      "house                   381\n",
      "educational             325\n",
      "renewable_energy        103\n",
      "Name: purpose, dtype: int64\n",
      "********************************************************************************\n",
      "Debt Consolidation                  2184\n",
      "Debt Consolidation Loan             1729\n",
      "Personal Loan                        659\n",
      "Consolidation                        517\n",
      "debt consolidation                   505\n",
      "                                    ... \n",
      "your rate is better than my rate       1\n",
      "Concession Trailer                     1\n",
      "gregs                                  1\n",
      "EZover                                 1\n",
      "JAL Loan                               1\n",
      "Name: title, Length: 19615, dtype: int64\n",
      "********************************************************************************\n",
      "100xx    597\n",
      "945xx    545\n",
      "112xx    516\n",
      "606xx    503\n",
      "070xx    473\n",
      "        ... \n",
      "381xx      1\n",
      "378xx      1\n",
      "739xx      1\n",
      "396xx      1\n",
      "469xx      1\n",
      "Name: zip_code, Length: 823, dtype: int64\n",
      "********************************************************************************\n",
      "CA    7099\n",
      "NY    3812\n",
      "FL    2866\n",
      "TX    2727\n",
      "NJ    1850\n",
      "IL    1525\n",
      "PA    1517\n",
      "VA    1407\n",
      "GA    1398\n",
      "MA    1340\n",
      "OH    1223\n",
      "MD    1049\n",
      "AZ     879\n",
      "WA     840\n",
      "CO     792\n",
      "NC     788\n",
      "CT     751\n",
      "MI     720\n",
      "MO     686\n",
      "MN     615\n",
      "NV     497\n",
      "SC     472\n",
      "WI     460\n",
      "AL     452\n",
      "OR     451\n",
      "LA     436\n",
      "KY     325\n",
      "OK     299\n",
      "KS     271\n",
      "UT     258\n",
      "AR     245\n",
      "DC     214\n",
      "RI     198\n",
      "NM     189\n",
      "WV     177\n",
      "HI     174\n",
      "NH     171\n",
      "DE     114\n",
      "MT      85\n",
      "WY      83\n",
      "AK      80\n",
      "SD      64\n",
      "VT      54\n",
      "MS      19\n",
      "TN      17\n",
      "IN       9\n",
      "ID       6\n",
      "IA       5\n",
      "NE       5\n",
      "ME       3\n",
      "Name: addr_state, dtype: int64\n",
      "********************************************************************************\n",
      "0.00     183\n",
      "12.00     51\n",
      "18.00     45\n",
      "19.20     40\n",
      "13.20     39\n",
      "        ... \n",
      "29.13      1\n",
      "25.31      1\n",
      "29.76      1\n",
      "28.42      1\n",
      "25.43      1\n",
      "Name: dti, Length: 2868, dtype: int64\n",
      "********************************************************************************\n",
      "0     35405\n",
      "1      3303\n",
      "2       687\n",
      "3       220\n",
      "4        62\n",
      "5        22\n",
      "6        10\n",
      "7         4\n",
      "8         2\n",
      "9         1\n",
      "11        1\n",
      "Name: delinq_2yrs, dtype: int64\n",
      "********************************************************************************\n",
      "Nov-98    370\n",
      "Oct-99    366\n",
      "Dec-98    348\n",
      "Oct-00    346\n",
      "Dec-97    329\n",
      "         ... \n",
      "Feb-66      1\n",
      "Dec-61      1\n",
      "Oct-54      1\n",
      "Jun-72      1\n",
      "Oct-74      1\n",
      "Name: earliest_cr_line, Length: 526, dtype: int64\n",
      "********************************************************************************\n",
      "0    19300\n",
      "1    10971\n",
      "2     5812\n",
      "3     3048\n",
      "4      326\n",
      "5      146\n",
      "6       64\n",
      "7       35\n",
      "8       15\n",
      "Name: inq_last_6mths, dtype: int64\n",
      "********************************************************************************\n",
      "7     4018\n",
      "6     3946\n",
      "8     3936\n",
      "9     3718\n",
      "10    3223\n",
      "5     3183\n",
      "11    2746\n",
      "4     2343\n",
      "12    2273\n",
      "13    1911\n",
      "3     1493\n",
      "14    1487\n",
      "15    1177\n",
      "16     940\n",
      "17     741\n",
      "2      605\n",
      "18     533\n",
      "19     396\n",
      "20     289\n",
      "21     244\n",
      "22     143\n",
      "23      97\n",
      "24      81\n",
      "25      55\n",
      "26      34\n",
      "28      25\n",
      "27      22\n",
      "30      15\n",
      "29      13\n",
      "31       7\n",
      "34       5\n",
      "32       4\n",
      "35       4\n",
      "33       3\n",
      "36       2\n",
      "39       1\n",
      "38       1\n",
      "44       1\n",
      "41       1\n",
      "42       1\n",
      "Name: open_acc, dtype: int64\n",
      "********************************************************************************\n",
      "0    37601\n",
      "1     2056\n",
      "2       51\n",
      "3        7\n",
      "4        2\n",
      "Name: pub_rec, dtype: int64\n",
      "********************************************************************************\n",
      "0        994\n",
      "298       14\n",
      "255       14\n",
      "1         12\n",
      "682       11\n",
      "        ... \n",
      "21424      1\n",
      "30747      1\n",
      "23862      1\n",
      "20197      1\n",
      "85607      1\n",
      "Name: revol_bal, Length: 21711, dtype: int64\n",
      "********************************************************************************\n",
      "0%        977\n",
      "0.20%      63\n",
      "63%        62\n",
      "40.70%     58\n",
      "66.70%     58\n",
      "         ... \n",
      "25.74%      1\n",
      "47.36%      1\n",
      "24.65%      1\n",
      "10.61%      1\n",
      "7.28%       1\n",
      "Name: revol_util, Length: 1089, dtype: int64\n",
      "********************************************************************************\n",
      "16    1471\n",
      "15    1462\n",
      "17    1457\n",
      "14    1445\n",
      "20    1428\n",
      "      ... \n",
      "74       1\n",
      "77       1\n",
      "78       1\n",
      "87       1\n",
      "90       1\n",
      "Name: total_acc, Length: 82, dtype: int64\n",
      "********************************************************************************\n",
      "f    39717\n",
      "Name: initial_list_status, dtype: int64\n",
      "********************************************************************************\n",
      "0.00       38577\n",
      "1972.60        2\n",
      "827.13         2\n",
      "2277.11        2\n",
      "2963.24        2\n",
      "           ...  \n",
      "782.23         1\n",
      "2296.41        1\n",
      "1928.85        1\n",
      "1061.32        1\n",
      "79.24          1\n",
      "Name: out_prncp, Length: 1137, dtype: int64\n",
      "********************************************************************************\n",
      "0.00       38577\n",
      "1972.60        2\n",
      "1664.64        2\n",
      "827.13         2\n",
      "1863.21        1\n",
      "           ...  \n",
      "782.23         1\n",
      "2289.14        1\n",
      "1928.85        1\n",
      "1061.32        1\n",
      "79.24          1\n",
      "Name: out_prncp_inv, Length: 1138, dtype: int64\n",
      "********************************************************************************\n",
      "11196.569430    26\n",
      "0.000000        16\n",
      "11784.232230    16\n",
      "10956.775960    16\n",
      "5478.387981     15\n",
      "                ..\n",
      "17768.430010     1\n",
      "12794.806580     1\n",
      "6193.803706      1\n",
      "34797.769170     1\n",
      "9195.263334      1\n",
      "Name: total_pymnt, Length: 37850, dtype: int64\n",
      "********************************************************************************\n",
      "0.00        165\n",
      "6514.52      16\n",
      "5478.39      14\n",
      "13148.14     14\n",
      "11196.57     12\n",
      "           ... \n",
      "17702.50      1\n",
      "19026.06      1\n",
      "7355.24       1\n",
      "387.55        1\n",
      "980.83        1\n",
      "Name: total_pymnt_inv, Length: 37518, dtype: int64\n",
      "********************************************************************************\n",
      "10000.00    2293\n",
      "12000.00    1805\n",
      "5000.00     1702\n",
      "6000.00     1637\n",
      "15000.00    1400\n",
      "            ... \n",
      "1097.81        1\n",
      "1410.30        1\n",
      "6968.65        1\n",
      "3477.49        1\n",
      "16077.42       1\n",
      "Name: total_rec_prncp, Length: 7976, dtype: int64\n",
      "********************************************************************************\n",
      "0.00       71\n",
      "1196.57    26\n",
      "514.52     19\n",
      "956.78     17\n",
      "1784.23    17\n",
      "           ..\n",
      "494.53      1\n",
      "1119.88     1\n",
      "62.31       1\n",
      "2656.10     1\n",
      "1695.26     1\n",
      "Name: total_rec_int, Length: 35148, dtype: int64\n",
      "********************************************************************************\n",
      "0.000000     37671\n",
      "15.000000      255\n",
      "15.000000       58\n",
      "30.000000       55\n",
      "15.000000       47\n",
      "             ...  \n",
      "35.286832        1\n",
      "15.000000        1\n",
      "14.777500        1\n",
      "14.967774        1\n",
      "19.890000        1\n",
      "Name: total_rec_late_fee, Length: 1356, dtype: int64\n",
      "********************************************************************************\n",
      "0.00       35499\n",
      "11.29          4\n",
      "10.40          4\n",
      "10.66          3\n",
      "44.92          3\n",
      "           ...  \n",
      "764.69         1\n",
      "653.08         1\n",
      "1080.96        1\n",
      "878.19         1\n",
      "21.29          1\n",
      "Name: recoveries, Length: 4040, dtype: int64\n",
      "********************************************************************************\n",
      "0.0000      35935\n",
      "2.0000         12\n",
      "1.2000         10\n",
      "3.7100          9\n",
      "1.8800          8\n",
      "            ...  \n",
      "3.7900          1\n",
      "773.4900        1\n",
      "272.8250        1\n",
      "1.7697          1\n",
      "0.2300          1\n",
      "Name: collection_recovery_fee, Length: 2616, dtype: int64\n",
      "********************************************************************************\n",
      "May-16    1256\n",
      "Mar-13    1026\n",
      "Dec-14     945\n",
      "May-13     907\n",
      "Feb-13     869\n",
      "          ... \n",
      "Jun-08      10\n",
      "Nov-08      10\n",
      "Mar-08       5\n",
      "Jan-08       4\n",
      "Feb-08       1\n",
      "Name: last_pymnt_d, Length: 101, dtype: int64\n",
      "********************************************************************************\n",
      "0.00       74\n",
      "276.06     21\n",
      "200.00     17\n",
      "50.00      16\n",
      "100.00     15\n",
      "           ..\n",
      "1763.87     1\n",
      "172.27      1\n",
      "889.67      1\n",
      "150.73      1\n",
      "256.59      1\n",
      "Name: last_pymnt_amnt, Length: 34930, dtype: int64\n",
      "********************************************************************************\n",
      "May-16    10308\n",
      "Apr-16     2547\n",
      "Mar-16     1123\n",
      "Feb-13      843\n",
      "Feb-16      736\n",
      "          ...  \n",
      "May-08        1\n",
      "Jun-08        1\n",
      "Jul-08        1\n",
      "May-07        1\n",
      "Jul-07        1\n",
      "Name: last_credit_pull_d, Length: 106, dtype: int64\n",
      "********************************************************************************\n",
      "0.0    39661\n",
      "Name: collections_12_mths_ex_med, dtype: int64\n",
      "********************************************************************************\n",
      "1    39717\n",
      "Name: policy_code, dtype: int64\n",
      "********************************************************************************\n",
      "INDIVIDUAL    39717\n",
      "Name: application_type, dtype: int64\n",
      "********************************************************************************\n",
      "0    39717\n",
      "Name: acc_now_delinq, dtype: int64\n",
      "********************************************************************************\n",
      "0.0    39661\n",
      "Name: chargeoff_within_12_mths, dtype: int64\n",
      "********************************************************************************\n",
      "0    39717\n",
      "Name: delinq_amnt, dtype: int64\n",
      "********************************************************************************\n",
      "0.0    37339\n",
      "1.0     1674\n",
      "2.0        7\n",
      "Name: pub_rec_bankruptcies, dtype: int64\n",
      "********************************************************************************\n",
      "0.0    39678\n",
      "Name: tax_liens, dtype: int64\n",
      "********************************************************************************\n"
     ]
    }
   ],
   "source": [
    "for i in df.columns:\n",
    "    print(df[i].value_counts())\n",
    "    print('*'*80)"
   ]
  },
  {
   "cell_type": "markdown",
   "id": "767cf7b4",
   "metadata": {},
   "source": [
    "### Our main objective is to identify the driving factors of loan defaulting before approving loan, so we can safely remove the columns which don't contribute in understanding if the defaulter analysis.\n",
    "\n",
    "- The columns which show properties of after approval of loan should be removed as they don't contribute in defaulter analysis. These attributes are\n",
    "    - delinq_2yrs\n",
    "    - revol_bal\n",
    "    - out_prncp\n",
    "    - total_pymnt\n",
    "    - mths_since_last_record\n",
    "    - collection_recovery_fee\n",
    "    - total_rec_prncp\n",
    "    - total_rec_int\n",
    "    - mths_since_last_delinq\n",
    "    - recoveries\n",
    "    - total_rec_late_fee\n",
    "    - last_pymnt_d\n",
    "    - last_pymnt_amnt\n",
    "    - next_pymnt_d\n",
    "    - chargeoff_within_12_mths\n",
    "    \n",
    "- We can remove 'id', 'member_id','url','zip_code','last_credit_pull_d','addr_state', since they are not contributing to loan defaulters.\n",
    "\n",
    "- 'funded_amnt' can be reomved as we have 'funded_amnt_inv' which shows how much the investor has funded.\n",
    "\n",
    "- 'desc' has description of the loan from which we can't analyse for now. so removing it\n",
    "\n",
    "- 'out_prncp_inv', 'total_pymnt_inv', 'emp_title', 'title' also don't contribute to the loan defaulting analysis. So removing them.\n",
    "\n",
    "- there are many single valued columns 'pymnt_plan', 'initial_list_status','collections_12_mths_ex_med','policy_code','acc_now_delinq', 'application_type', 'pub_rec_bankruptcies', 'tax_liens', 'delinq_amnt', which should be deleted."
   ]
  },
  {
   "cell_type": "code",
   "execution_count": 312,
   "id": "38508be4",
   "metadata": {},
   "outputs": [],
   "source": [
    "# removing above mentioned columns\n",
    "df.drop([\"id\", \"member_id\", \"url\", \"zip_code\", \"last_credit_pull_d\", \"addr_state\",\"desc\",\"out_prncp_inv\",\"total_pymnt_inv\",\"funded_amnt\", \"delinq_2yrs\", \"revol_bal\", \"out_prncp\", \"total_pymnt\", \"total_rec_prncp\", \"total_rec_int\", \"total_rec_late_fee\", \"recoveries\", \"collection_recovery_fee\", \"last_pymnt_d\", \"last_pymnt_amnt\", \"chargeoff_within_12_mths\",'pymnt_plan', \"initial_list_status\",'collections_12_mths_ex_med','policy_code','acc_now_delinq', 'application_type', 'pub_rec_bankruptcies', 'tax_liens', 'delinq_amnt','emp_title','title'], axis = 1, inplace = True)"
   ]
  },
  {
   "cell_type": "code",
   "execution_count": 313,
   "id": "56fa57d4",
   "metadata": {},
   "outputs": [
    {
     "data": {
      "text/plain": [
       "(39717, 21)"
      ]
     },
     "execution_count": 313,
     "metadata": {},
     "output_type": "execute_result"
    }
   ],
   "source": [
    "#checking the shape of dataset after removing these columns\n",
    "df.shape"
   ]
  },
  {
   "cell_type": "code",
   "execution_count": 314,
   "id": "fce8876a",
   "metadata": {},
   "outputs": [
    {
     "data": {
      "text/plain": [
       "Index(['loan_amnt', 'funded_amnt_inv', 'term', 'int_rate', 'installment',\n",
       "       'grade', 'sub_grade', 'emp_length', 'home_ownership', 'annual_inc',\n",
       "       'verification_status', 'issue_d', 'loan_status', 'purpose', 'dti',\n",
       "       'earliest_cr_line', 'inq_last_6mths', 'open_acc', 'pub_rec',\n",
       "       'revol_util', 'total_acc'],\n",
       "      dtype='object')"
      ]
     },
     "execution_count": 314,
     "metadata": {},
     "output_type": "execute_result"
    }
   ],
   "source": [
    "df.columns"
   ]
  },
  {
   "cell_type": "markdown",
   "id": "131f6a65",
   "metadata": {},
   "source": [
    "### Since we have to look at the status of loan(loan_status), because that field would tell who has paid the loan and who are defaulters."
   ]
  },
  {
   "cell_type": "code",
   "execution_count": 315,
   "id": "8a4ba873",
   "metadata": {},
   "outputs": [
    {
     "data": {
      "text/plain": [
       "Fully Paid     32950\n",
       "Charged Off     5627\n",
       "Current         1140\n",
       "Name: loan_status, dtype: int64"
      ]
     },
     "execution_count": 315,
     "metadata": {},
     "output_type": "execute_result"
    }
   ],
   "source": [
    "df.loan_status.value_counts()"
   ]
  },
  {
   "cell_type": "code",
   "execution_count": 316,
   "id": "8c3a8b23",
   "metadata": {},
   "outputs": [
    {
     "data": {
      "text/plain": [
       "<AxesSubplot:xlabel='loan_status', ylabel='count'>"
      ]
     },
     "execution_count": 316,
     "metadata": {},
     "output_type": "execute_result"
    },
    {
     "data": {
      "image/png": "[encoded data removed]",
      "text/plain": [
       "<Figure size 432x288 with 1 Axes>"
      ]
     },
     "metadata": {
      "needs_background": "light"
     },
     "output_type": "display_data"
    }
   ],
   "source": [
    "sns.countplot(df.loan_status)"
   ]
  },
  {
   "cell_type": "markdown",
   "id": "387d3ee8",
   "metadata": {},
   "source": [
    "### Since loan status \"Current\" doesnt give any infomation for our analysis for approving or rejecting application, so dropping this."
   ]
  },
  {
   "cell_type": "code",
   "execution_count": 317,
   "id": "5aab9b79",
   "metadata": {},
   "outputs": [],
   "source": [
    "#Removing the 'fully paid' records\n",
    "df.drop(df[df['loan_status']=='Current'].index,inplace=True)"
   ]
  },
  {
   "cell_type": "code",
   "execution_count": 318,
   "id": "cfd148c2",
   "metadata": {},
   "outputs": [
    {
     "data": {
      "text/plain": [
       "array(['Fully Paid', 'Charged Off'], dtype=object)"
      ]
     },
     "execution_count": 318,
     "metadata": {},
     "output_type": "execute_result"
    }
   ],
   "source": [
    "# Viewing the loan_status after deleting the 'fully paid records'\n",
    "df.loan_status.unique()"
   ]
  },
  {
   "cell_type": "code",
   "execution_count": 319,
   "id": "bae084da",
   "metadata": {},
   "outputs": [
    {
     "data": {
      "text/plain": [
       "(38577, 21)"
      ]
     },
     "execution_count": 319,
     "metadata": {},
     "output_type": "execute_result"
    }
   ],
   "source": [
    "df.shape"
   ]
  },
  {
   "cell_type": "markdown",
   "id": "74a3b4d6",
   "metadata": {},
   "source": [
    "### Checking for missing values and handling them."
   ]
  },
  {
   "cell_type": "code",
   "execution_count": 320,
   "id": "6c38f257",
   "metadata": {},
   "outputs": [
    {
     "data": {
      "text/plain": [
       "loan_amnt              0.000000\n",
       "funded_amnt_inv        0.000000\n",
       "term                   0.000000\n",
       "int_rate               0.000000\n",
       "installment            0.000000\n",
       "grade                  0.000000\n",
       "sub_grade              0.000000\n",
       "emp_length             0.026778\n",
       "home_ownership         0.000000\n",
       "annual_inc             0.000000\n",
       "verification_status    0.000000\n",
       "issue_d                0.000000\n",
       "loan_status            0.000000\n",
       "purpose                0.000000\n",
       "dti                    0.000000\n",
       "earliest_cr_line       0.000000\n",
       "inq_last_6mths         0.000000\n",
       "open_acc               0.000000\n",
       "pub_rec                0.000000\n",
       "revol_util             0.001296\n",
       "total_acc              0.000000\n",
       "dtype: float64"
      ]
     },
     "execution_count": 320,
     "metadata": {},
     "output_type": "execute_result"
    }
   ],
   "source": [
    "# Checking for missing values\n",
    "df.isna().sum()/len(df)"
   ]
  },
  {
   "cell_type": "code",
   "execution_count": 321,
   "id": "0ec47bc7",
   "metadata": {},
   "outputs": [
    {
     "data": {
      "text/plain": [
       "10+ years    8488\n",
       "< 1 year     4508\n",
       "2 years      4291\n",
       "3 years      4012\n",
       "4 years      3342\n",
       "5 years      3194\n",
       "1 year       3169\n",
       "6 years      2168\n",
       "7 years      1711\n",
       "8 years      1435\n",
       "9 years      1226\n",
       "Name: emp_length, dtype: int64"
      ]
     },
     "execution_count": 321,
     "metadata": {},
     "output_type": "execute_result"
    }
   ],
   "source": [
    "# Viewing the unique values of emp_length and their count\n",
    "df.emp_length.value_counts()"
   ]
  },
  {
   "cell_type": "code",
   "execution_count": 322,
   "id": "03507d92",
   "metadata": {},
   "outputs": [
    {
     "data": {
      "text/plain": [
       "0%        954\n",
       "0.20%      62\n",
       "63%        62\n",
       "40.70%     57\n",
       "31.20%     57\n",
       "         ... \n",
       "77.63%      1\n",
       "25.74%      1\n",
       "0.83%       1\n",
       "47.36%      1\n",
       "7.28%       1\n",
       "Name: revol_util, Length: 1088, dtype: int64"
      ]
     },
     "execution_count": 322,
     "metadata": {},
     "output_type": "execute_result"
    }
   ],
   "source": [
    "# Viewing the unique values of revol_util and their count\n",
    "df.revol_util.value_counts()"
   ]
  },
  {
   "cell_type": "code",
   "execution_count": 323,
   "id": "de16270c",
   "metadata": {},
   "outputs": [
    {
     "name": "stdout",
     "output_type": "stream",
     "text": [
      "1033\n",
      "50\n"
     ]
    }
   ],
   "source": [
    "# Checking 'emp_length' and 'revol_util' columns\n",
    "print(df.emp_length.isnull().sum())\n",
    "print(df.revol_util.isnull().sum())"
   ]
  },
  {
   "cell_type": "code",
   "execution_count": 324,
   "id": "4af7c63f",
   "metadata": {},
   "outputs": [
    {
     "name": "stdout",
     "output_type": "stream",
     "text": [
      "10+ years\n",
      "0%\n"
     ]
    }
   ],
   "source": [
    "# viewing the mode of these features\n",
    "print(df.emp_length.mode()[0])\n",
    "print(df.revol_util.mode()[0])"
   ]
  },
  {
   "cell_type": "markdown",
   "id": "151b3edb",
   "metadata": {},
   "source": [
    "### The above hypothesis shows us that the mode value has higher frequency than that of the next most frequent value. \n",
    "- So we can safely assign the value of mode to the null values in the column.\n",
    "- Also the missing values are in very low percentage. Hence it will not affect the analysis much"
   ]
  },
  {
   "cell_type": "code",
   "execution_count": 325,
   "id": "a050c9b9",
   "metadata": {},
   "outputs": [
    {
     "name": "stdout",
     "output_type": "stream",
     "text": [
      "0\n",
      "0\n"
     ]
    }
   ],
   "source": [
    "# filling the null values with mode value\n",
    "df.emp_length.fillna(df.emp_length.mode()[0], inplace=True)\n",
    "df.revol_util.fillna(df.revol_util.mode()[0], inplace=True)\n",
    "print(df.emp_length.isna().sum())\n",
    "print(df.revol_util.isna().sum())"
   ]
  },
  {
   "cell_type": "code",
   "execution_count": 326,
   "id": "6d1360eb",
   "metadata": {},
   "outputs": [
    {
     "name": "stdout",
     "output_type": "stream",
     "text": [
      "<class 'pandas.core.frame.DataFrame'>\n",
      "Int64Index: 38577 entries, 0 to 39716\n",
      "Data columns (total 21 columns):\n",
      " #   Column               Non-Null Count  Dtype  \n",
      "---  ------               --------------  -----  \n",
      " 0   loan_amnt            38577 non-null  int64  \n",
      " 1   funded_amnt_inv      38577 non-null  float64\n",
      " 2   term                 38577 non-null  object \n",
      " 3   int_rate             38577 non-null  object \n",
      " 4   installment          38577 non-null  float64\n",
      " 5   grade                38577 non-null  object \n",
      " 6   sub_grade            38577 non-null  object \n",
      " 7   emp_length           38577 non-null  object \n",
      " 8   home_ownership       38577 non-null  object \n",
      " 9   annual_inc           38577 non-null  float64\n",
      " 10  verification_status  38577 non-null  object \n",
      " 11  issue_d              38577 non-null  object \n",
      " 12  loan_status          38577 non-null  object \n",
      " 13  purpose              38577 non-null  object \n",
      " 14  dti                  38577 non-null  float64\n",
      " 15  earliest_cr_line     38577 non-null  object \n",
      " 16  inq_last_6mths       38577 non-null  int64  \n",
      " 17  open_acc             38577 non-null  int64  \n",
      " 18  pub_rec              38577 non-null  int64  \n",
      " 19  revol_util           38577 non-null  object \n",
      " 20  total_acc            38577 non-null  int64  \n",
      "dtypes: float64(4), int64(5), object(12)\n",
      "memory usage: 6.5+ MB\n"
     ]
    }
   ],
   "source": [
    "# Checking the datatype of the columns\n",
    "df.info()"
   ]
  },
  {
   "cell_type": "markdown",
   "id": "d4a9cbb9",
   "metadata": {},
   "source": [
    "## Categorical and Numerical Data\n",
    "- 'revol_util' is object column, but it has numerical data, so we can change it. also removing the '%'.\n",
    "- Same is the case with 'int_rate'.\n",
    "- 'emp_length' <1 is assumed as 0 and 10+ years is assumed as 10, so emp_length can be changed to numeric."
   ]
  },
  {
   "cell_type": "code",
   "execution_count": 327,
   "id": "8dc71b56",
   "metadata": {},
   "outputs": [],
   "source": [
    "df.revol_util=pd.to_numeric(df.revol_util.apply(lambda x:x.split('%')[0]))\n",
    "df.int_rate=pd.to_numeric(df.int_rate.apply(lambda x:x.split('%')[0]))\n",
    "df.emp_length = pd.to_numeric(df.emp_length.apply(lambda x: 0 if \"<\" in x else (x.split('+')[0] if \"+\" in x else x.split()[0])))"
   ]
  },
  {
   "cell_type": "code",
   "execution_count": 328,
   "id": "c10f6ab6",
   "metadata": {},
   "outputs": [
    {
     "data": {
      "text/plain": [
       "numpy.int64"
      ]
     },
     "execution_count": 328,
     "metadata": {},
     "output_type": "execute_result"
    }
   ],
   "source": [
    "type(df.emp_length[0])"
   ]
  },
  {
   "cell_type": "code",
   "execution_count": 329,
   "id": "2b4e524c",
   "metadata": {},
   "outputs": [
    {
     "name": "stdout",
     "output_type": "stream",
     "text": [
      "<class 'pandas.core.frame.DataFrame'>\n",
      "Int64Index: 38577 entries, 0 to 39716\n",
      "Data columns (total 21 columns):\n",
      " #   Column               Non-Null Count  Dtype  \n",
      "---  ------               --------------  -----  \n",
      " 0   loan_amnt            38577 non-null  int64  \n",
      " 1   funded_amnt_inv      38577 non-null  float64\n",
      " 2   term                 38577 non-null  object \n",
      " 3   int_rate             38577 non-null  float64\n",
      " 4   installment          38577 non-null  float64\n",
      " 5   grade                38577 non-null  object \n",
      " 6   sub_grade            38577 non-null  object \n",
      " 7   emp_length           38577 non-null  int64  \n",
      " 8   home_ownership       38577 non-null  object \n",
      " 9   annual_inc           38577 non-null  float64\n",
      " 10  verification_status  38577 non-null  object \n",
      " 11  issue_d              38577 non-null  object \n",
      " 12  loan_status          38577 non-null  object \n",
      " 13  purpose              38577 non-null  object \n",
      " 14  dti                  38577 non-null  float64\n",
      " 15  earliest_cr_line     38577 non-null  object \n",
      " 16  inq_last_6mths       38577 non-null  int64  \n",
      " 17  open_acc             38577 non-null  int64  \n",
      " 18  pub_rec              38577 non-null  int64  \n",
      " 19  revol_util           38577 non-null  float64\n",
      " 20  total_acc            38577 non-null  int64  \n",
      "dtypes: float64(6), int64(6), object(9)\n",
      "memory usage: 7.5+ MB\n"
     ]
    }
   ],
   "source": [
    "df.info()"
   ]
  },
  {
   "cell_type": "markdown",
   "id": "6547cdb0",
   "metadata": {},
   "source": [
    "### We can see that around all the features which have object dtype are categorical datatypes (except 'issue_d' and 'earliest_cr_line' which are dates), and all the int and float dtypes features are numerical data.\n",
    "\n",
    "    - Numerical Features\n",
    "    \t- loan_amnt\n",
    "    \t- funded_amnt_inv\n",
    "    \t- int_rate\n",
    "    \t- installment\n",
    "    \t- emp_length\n",
    "    \t- annual_inc\n",
    "    \t- dti\n",
    "    \t- revol_util\n",
    "        - open_acc\n",
    "    \t- total_acc\n",
    "    \t- inq_last_6mths\n",
    "        \n",
    "    - Categorical Features                                  \n",
    "        - term                                                  \n",
    "        - grade                                                    \n",
    "        - sub_grade                                             \n",
    "        - home_ownership                                          \n",
    "        - verification_status                                     \n",
    "        - loan_status                                            \n",
    "        - purpose\n",
    "        - pub_rec\n",
    "       \n",
    "    - Date Features\n",
    "        - issue_d\n",
    "        - earliest_cr_line\n",
    "      \n",
    " "
   ]
  },
  {
   "cell_type": "code",
   "execution_count": 330,
   "id": "bfaeaa73",
   "metadata": {},
   "outputs": [],
   "source": [
    "# Divideing the dataset into category and numerical datasets\n",
    "cat_cols=['term','grade','sub_grade','home_ownership','pub_rec','verification_status','loan_status','purpose']\n",
    "num_cols=['loan_amnt','funded_amnt_inv','int_rate','installment','emp_length','annual_inc','dti','revol_util','open_acc','total_acc','inq_last_6mths']\n"
   ]
  },
  {
   "cell_type": "code",
   "execution_count": 331,
   "id": "de7ea19e",
   "metadata": {},
   "outputs": [
    {
     "name": "stdout",
     "output_type": "stream",
     "text": [
      "LOAN_AMNT\n"
     ]
    },
    {
     "data": {
      "image/png": "[encoded data removed]",
      "text/plain": [
       "<Figure size 504x288 with 1 Axes>"
      ]
     },
     "metadata": {
      "needs_background": "light"
     },
     "output_type": "display_data"
    },
    {
     "name": "stdout",
     "output_type": "stream",
     "text": [
      "\n",
      "FUNDED_AMNT_INV\n"
     ]
    },
    {
     "data": {
      "image/png": "[encoded data removed]",
      "text/plain": [
       "<Figure size 504x288 with 1 Axes>"
      ]
     },
     "metadata": {
      "needs_background": "light"
     },
     "output_type": "display_data"
    },
    {
     "name": "stdout",
     "output_type": "stream",
     "text": [
      "\n",
      "INT_RATE\n"
     ]
    },
    {
     "data": {
      "image/png": "[encoded data removed]",
      "text/plain": [
       "<Figure size 504x288 with 1 Axes>"
      ]
     },
     "metadata": {
      "needs_background": "light"
     },
     "output_type": "display_data"
    },
    {
     "name": "stdout",
     "output_type": "stream",
     "text": [
      "\n",
      "INSTALLMENT\n"
     ]
    },
    {
     "data": {
      "image/png": "[encoded data removed]",
      "text/plain": [
       "<Figure size 504x288 with 1 Axes>"
      ]
     },
     "metadata": {
      "needs_background": "light"
     },
     "output_type": "display_data"
    },
    {
     "name": "stdout",
     "output_type": "stream",
     "text": [
      "\n",
      "EMP_LENGTH\n"
     ]
    },
    {
     "data": {
      "image/png": "[encoded data removed]",
      "text/plain": [
       "<Figure size 504x288 with 1 Axes>"
      ]
     },
     "metadata": {
      "needs_background": "light"
     },
     "output_type": "display_data"
    },
    {
     "name": "stdout",
     "output_type": "stream",
     "text": [
      "\n",
      "ANNUAL_INC\n"
     ]
    },
    {
     "data": {
      "image/png": "[encoded data removed]",
      "text/plain": [
       "<Figure size 504x288 with 1 Axes>"
      ]
     },
     "metadata": {
      "needs_background": "light"
     },
     "output_type": "display_data"
    },
    {
     "name": "stdout",
     "output_type": "stream",
     "text": [
      "\n",
      "DTI\n"
     ]
    },
    {
     "data": {
      "image/png": "[encoded data removed]",
      "text/plain": [
       "<Figure size 504x288 with 1 Axes>"
      ]
     },
     "metadata": {
      "needs_background": "light"
     },
     "output_type": "display_data"
    },
    {
     "name": "stdout",
     "output_type": "stream",
     "text": [
      "\n",
      "REVOL_UTIL\n"
     ]
    },
    {
     "data": {
      "image/png": "[encoded data removed]",
      "text/plain": [
       "<Figure size 504x288 with 1 Axes>"
      ]
     },
     "metadata": {
      "needs_background": "light"
     },
     "output_type": "display_data"
    },
    {
     "name": "stdout",
     "output_type": "stream",
     "text": [
      "\n",
      "OPEN_ACC\n"
     ]
    },
    {
     "data": {
      "image/png": "[encoded data removed]",
      "text/plain": [
       "<Figure size 504x288 with 1 Axes>"
      ]
     },
     "metadata": {
      "needs_background": "light"
     },
     "output_type": "display_data"
    },
    {
     "name": "stdout",
     "output_type": "stream",
     "text": [
      "\n",
      "TOTAL_ACC\n"
     ]
    },
    {
     "data": {
      "image/png": "[encoded data removed]",
      "text/plain": [
       "<Figure size 504x288 with 1 Axes>"
      ]
     },
     "metadata": {
      "needs_background": "light"
     },
     "output_type": "display_data"
    },
    {
     "name": "stdout",
     "output_type": "stream",
     "text": [
      "\n",
      "INQ_LAST_6MTHS\n"
     ]
    },
    {
     "data": {
      "image/png": "[encoded data removed]",
      "text/plain": [
       "<Figure size 504x288 with 1 Axes>"
      ]
     },
     "metadata": {
      "needs_background": "light"
     },
     "output_type": "display_data"
    },
    {
     "name": "stdout",
     "output_type": "stream",
     "text": [
      "\n"
     ]
    }
   ],
   "source": [
    "# Viewing outliers for numerical features\n",
    "for i in num_cols:\n",
    "    print(i.upper())\n",
    "    plt.subplots(figsize=(7,4))\n",
    "    sns.boxplot(df[i])\n",
    "    plt.show()\n",
    "    print()"
   ]
  },
  {
   "cell_type": "markdown",
   "id": "a41f9814",
   "metadata": {},
   "source": [
    "### In the above boxplots of numerical features, we see that except annual_inc, others are having some outliers, but they are negligible and more or less they are pretty continuous, so we can do our analysis on them and treat outliers of annual_inc"
   ]
  },
  {
   "cell_type": "code",
   "execution_count": 332,
   "id": "e6a8d429",
   "metadata": {},
   "outputs": [
    {
     "data": {
      "text/plain": [
       "0.25     40000.0\n",
       "0.50     58868.0\n",
       "0.75     82000.0\n",
       "0.90    115000.0\n",
       "0.95    140004.0\n",
       "0.98    187000.0\n",
       "0.99    234144.0\n",
       "Name: annual_inc, dtype: float64"
      ]
     },
     "execution_count": 332,
     "metadata": {},
     "output_type": "execute_result"
    }
   ],
   "source": [
    "# treating annual_inc\n",
    "df.annual_inc.quantile([0.25,0.5,0.75,0.90,0.95,0.98,0.99])"
   ]
  },
  {
   "cell_type": "code",
   "execution_count": 333,
   "id": "c6e5bb31",
   "metadata": {},
   "outputs": [
    {
     "data": {
      "text/plain": [
       "60000.0     1466\n",
       "50000.0     1029\n",
       "40000.0      855\n",
       "45000.0      811\n",
       "30000.0      808\n",
       "            ... \n",
       "80569.0        1\n",
       "82116.0        1\n",
       "242400.0       1\n",
       "133300.0       1\n",
       "27376.0        1\n",
       "Name: annual_inc, Length: 5215, dtype: int64"
      ]
     },
     "execution_count": 333,
     "metadata": {},
     "output_type": "execute_result"
    }
   ],
   "source": [
    "df['annual_inc'].value_counts()"
   ]
  },
  {
   "cell_type": "markdown",
   "id": "43360a9c",
   "metadata": {},
   "source": [
    "### Above we see that the general customer is having annual income of under 120,000. But there are outliers which may bias our analysis since they are having very high income, So we must remove these outliers for a good analysis. we can choose a quantile percentage of 95 for removing the outliers."
   ]
  },
  {
   "cell_type": "code",
   "execution_count": 334,
   "id": "91ddeca2",
   "metadata": {},
   "outputs": [],
   "source": [
    "df=df[df.annual_inc<=df.annual_inc.quantile(0.95)]"
   ]
  },
  {
   "cell_type": "code",
   "execution_count": 335,
   "id": "85c9358b",
   "metadata": {},
   "outputs": [
    {
     "data": {
      "text/plain": [
       "<AxesSubplot:xlabel='annual_inc'>"
      ]
     },
     "execution_count": 335,
     "metadata": {},
     "output_type": "execute_result"
    },
    {
     "data": {
      "image/png": "[encoded data removed]",
      "text/plain": [
       "<Figure size 432x288 with 1 Axes>"
      ]
     },
     "metadata": {
      "needs_background": "light"
     },
     "output_type": "display_data"
    }
   ],
   "source": [
    "sns.boxplot(df.annual_inc)"
   ]
  },
  {
   "cell_type": "markdown",
   "id": "059a53a9",
   "metadata": {},
   "source": [
    "Now our annual_inc looks good for analysis.\n"
   ]
  },
  {
   "cell_type": "markdown",
   "id": "c03a0c18",
   "metadata": {},
   "source": [
    "## We have successfully removed outliers which can bias our analysis. Now lets head towards the *Univariate and Bivariate Analysis*  and draw meaningful Observations\n",
    "### Univariate Analysis\n",
    "(We mostly have to compare the loan_status field with other fields and draw observations.) "
   ]
  },
  {
   "cell_type": "code",
   "execution_count": 336,
   "id": "3067e5c1",
   "metadata": {},
   "outputs": [
    {
     "data": {
      "image/png": "[encoded data removed]",
      "text/plain": [
       "<Figure size 936x576 with 2 Axes>"
      ]
     },
     "metadata": {
      "needs_background": "light"
     },
     "output_type": "display_data"
    }
   ],
   "source": [
    "# Let watch correlation of loan_status with other fields.\n",
    "# changing the loan_status to a numeric variable, assign 1 for defaulted loans and 0 for paid off ones\n",
    "df['loan_status_num']=df['loan_status'].apply(lambda x: 1 if x=='Charged Off' else 0)\n",
    "plt.subplots(figsize=(13,8))\n",
    "sns.heatmap(df.corr(),cmap='Blues')\n",
    "plt.show()"
   ]
  },
  {
   "cell_type": "markdown",
   "id": "736b9152",
   "metadata": {},
   "source": [
    "### Since we know darker the value heigher the correlation , we can clearly see loan_amnt, funded_amnt, funded_amnt_inv and installment have high correlation. The public records related fields pub_rec and number of accounts related fields open_acc & total_acc are also correlated."
   ]
  },
  {
   "cell_type": "code",
   "execution_count": 337,
   "id": "2e250292",
   "metadata": {},
   "outputs": [
    {
     "data": {
      "image/png": "[encoded data removed]",
      "text/plain": [
       "<Figure size 432x288 with 1 Axes>"
      ]
     },
     "metadata": {
      "needs_background": "light"
     },
     "output_type": "display_data"
    }
   ],
   "source": [
    "sns.countplot(df.loan_status)\n",
    "plt.show()"
   ]
  },
  {
   "cell_type": "markdown",
   "id": "e4959bf2",
   "metadata": {},
   "source": [
    "### loan_status vs other numerical columns"
   ]
  },
  {
   "cell_type": "code",
   "execution_count": 338,
   "id": "f5628b2c",
   "metadata": {},
   "outputs": [
    {
     "data": {
      "image/png": "[encoded data removed]",
      "text/plain": [
       "<Figure size 504x288 with 1 Axes>"
      ]
     },
     "metadata": {
      "needs_background": "light"
     },
     "output_type": "display_data"
    },
    {
     "data": {
      "image/png": "[encoded data removed]",
      "text/plain": [
       "<Figure size 504x288 with 1 Axes>"
      ]
     },
     "metadata": {
      "needs_background": "light"
     },
     "output_type": "display_data"
    },
    {
     "data": {
      "image/png": "[encoded data removed]",
      "text/plain": [
       "<Figure size 504x288 with 1 Axes>"
      ]
     },
     "metadata": {
      "needs_background": "light"
     },
     "output_type": "display_data"
    },
    {
     "data": {
      "image/png": "[encoded data removed]",
      "text/plain": [
       "<Figure size 504x288 with 1 Axes>"
      ]
     },
     "metadata": {
      "needs_background": "light"
     },
     "output_type": "display_data"
    },
    {
     "data": {
      "image/png": "[encoded data removed]",
      "text/plain": [
       "<Figure size 504x288 with 1 Axes>"
      ]
     },
     "metadata": {
      "needs_background": "light"
     },
     "output_type": "display_data"
    },
    {
     "data": {
      "image/png": "[encoded data removed]",
      "text/plain": [
       "<Figure size 504x288 with 1 Axes>"
      ]
     },
     "metadata": {
      "needs_background": "light"
     },
     "output_type": "display_data"
    },
    {
     "data": {
      "image/png": "[encoded data removed]",
      "text/plain": [
       "<Figure size 504x288 with 1 Axes>"
      ]
     },
     "metadata": {
      "needs_background": "light"
     },
     "output_type": "display_data"
    },
    {
     "data": {
      "image/png": "[encoded data removed]",
      "text/plain": [
       "<Figure size 504x288 with 1 Axes>"
      ]
     },
     "metadata": {
      "needs_background": "light"
     },
     "output_type": "display_data"
    },
    {
     "data": {
      "image/png": "[encoded data removed]",
      "text/plain": [
       "<Figure size 504x288 with 1 Axes>"
      ]
     },
     "metadata": {
      "needs_background": "light"
     },
     "output_type": "display_data"
    },
    {
     "data": {
      "image/png": "[encoded data removed]",
      "text/plain": [
       "<Figure size 504x288 with 1 Axes>"
      ]
     },
     "metadata": {
      "needs_background": "light"
     },
     "output_type": "display_data"
    },
    {
     "data": {
      "image/png": "[encoded data removed]",
      "text/plain": [
       "<Figure size 504x288 with 1 Axes>"
      ]
     },
     "metadata": {
      "needs_background": "light"
     },
     "output_type": "display_data"
    }
   ],
   "source": [
    "for i in num_cols:\n",
    "    plt.subplots(figsize=(7,4))\n",
    "    sns.barplot(x=df.loan_status,y=df[i])\n",
    "    plt.show()"
   ]
  },
  {
   "cell_type": "markdown",
   "id": "d59370bd",
   "metadata": {},
   "source": [
    "### Observations\n",
    "- We can see that the probability of loan defaulted loans are higher as loan_amounts and the funded amounts increases obviously\n",
    "- Same is the case with interest rates too, because it must be increasing the total loan and hence people who has around 11% to 16% interest rates default on their loans.\n",
    "- Employment length shows an interesting characterstic. It shows more years the people have been employed, more they belong to loan defaulter's category. After analysing the emp_length and annual_income of them below, we see that as the years of employemt increases, the salary is not increases by a significant amount, and hence it might result in this scenario.\n",
    "- Annual income show an expected result that more the income, more susceptible to pay the loans off.\n",
    "- dti, revol_util, open_acc, total_acc, shows nothing extraordinary results.\n",
    "- Inquiry Last 6 months shows the persons who inquired in the last 6 months have high probability of loan defaulters. It maybe due to urgence of money, they take the loans but are unable to pay. It might be an important feature."
   ]
  },
  {
   "cell_type": "markdown",
   "id": "8e560f3c",
   "metadata": {},
   "source": [
    "### Comparing the age of employment and the annual income (its observation is written in above text.)"
   ]
  },
  {
   "cell_type": "code",
   "execution_count": 339,
   "id": "0cdd2ecc",
   "metadata": {},
   "outputs": [
    {
     "data": {
      "image/png": "[encoded data removed]",
      "text/plain": [
       "<Figure size 432x288 with 1 Axes>"
      ]
     },
     "metadata": {
      "needs_background": "light"
     },
     "output_type": "display_data"
    }
   ],
   "source": [
    "sns.barplot(df.emp_length,df.annual_inc)\n",
    "plt.show()"
   ]
  },
  {
   "cell_type": "markdown",
   "id": "654fb283",
   "metadata": {},
   "source": [
    "### loan_status vs categorical columns\n",
    "We are analyzing and visualizing only the defaulter data. So subsetting the data while plotting only for 'Charged Off' loan_status for below plots"
   ]
  },
  {
   "cell_type": "code",
   "execution_count": 340,
   "id": "07dfd461",
   "metadata": {},
   "outputs": [
    {
     "data": {
      "image/png": "[encoded data removed]",
      "text/plain": [
       "<Figure size 576x360 with 1 Axes>"
      ]
     },
     "metadata": {
      "needs_background": "light"
     },
     "output_type": "display_data"
    },
    {
     "data": {
      "image/png": "[encoded data removed]",
      "text/plain": [
       "<Figure size 576x360 with 1 Axes>"
      ]
     },
     "metadata": {
      "needs_background": "light"
     },
     "output_type": "display_data"
    },
    {
     "data": {
      "image/png": "[encoded data removed]",
      "text/plain": [
       "<Figure size 576x360 with 1 Axes>"
      ]
     },
     "metadata": {
      "needs_background": "light"
     },
     "output_type": "display_data"
    },
    {
     "data": {
      "image/png": "[encoded data removed]",
      "text/plain": [
       "<Figure size 576x360 with 1 Axes>"
      ]
     },
     "metadata": {
      "needs_background": "light"
     },
     "output_type": "display_data"
    },
    {
     "data": {
      "image/png": "[encoded data removed]",
      "text/plain": [
       "<Figure size 576x360 with 1 Axes>"
      ]
     },
     "metadata": {
      "needs_background": "light"
     },
     "output_type": "display_data"
    },
    {
     "data": {
      "image/png": "[encoded data removed]",
      "text/plain": [
       "<Figure size 576x360 with 1 Axes>"
      ]
     },
     "metadata": {
      "needs_background": "light"
     },
     "output_type": "display_data"
    },
    {
     "data": {
      "image/png": "[encoded data removed]",
      "text/plain": [
       "<Figure size 576x360 with 1 Axes>"
      ]
     },
     "metadata": {
      "needs_background": "light"
     },
     "output_type": "display_data"
    },
    {
     "data": {
      "image/png": "[encoded data removed]",
      "text/plain": [
       "<Figure size 576x360 with 1 Axes>"
      ]
     },
     "metadata": {
      "needs_background": "light"
     },
     "output_type": "display_data"
    }
   ],
   "source": [
    "for i in cat_cols:\n",
    "    plt.subplots(figsize=(8,5))\n",
    "    sns.countplot(df[i],data=df[df['loan_status']=='Charged Off'])\n",
    "    plt.xticks(rotation=90)\n",
    "    plt.show()\n",
    "    "
   ]
  },
  {
   "cell_type": "markdown",
   "id": "7ccf85cf",
   "metadata": {},
   "source": [
    "### Observaitons\n",
    "- 36 months/3 Years loan category is facing significant amount of loan defaulters and compared to 60 months/5 years\n",
    "- We can clearly see that loan grades A, B,C having highest defaulters. G, F, E and D form grades where default rate is much lower.\n",
    "- home_ownership shows us that Rent and Morthage have high probability of loan defaulting as compared to rest.\n",
    "- When the number of derogatory public records is 0, then higher chance of default.\n",
    "- When verificaiton status is not verified, higher chance of default, but verified and source verified have significant defaulters too.\n",
    "- When the purpose of the debt is debt consolidation(debt taken to pay other debts or liabilities), then it has higher chance of default.\n"
   ]
  },
  {
   "cell_type": "markdown",
   "id": "6bdcd95e",
   "metadata": {},
   "source": [
    "### For more insights about the data, we can divide the numerical data into groups and then analyze them again with only charged_off loans (defaulter loans)"
   ]
  },
  {
   "cell_type": "code",
   "execution_count": 341,
   "id": "69b01ef2",
   "metadata": {},
   "outputs": [],
   "source": [
    "# creating new columns by deriving categorical columns from numerical columns by dividing them into bins\n",
    "df['int_rate_groups'] = pd.cut(df['int_rate'], bins=5,precision =0,labels=['5%-9%','9%-13%','13%-17%','17%-21%','21%-24%'])\n",
    "df['open_acc_groups'] = pd.cut(df['open_acc'],bins = 5,precision =0,labels=['2-10','10-19','19-27','27-36','36-44'])\n",
    "df['revol_util_groups'] = pd.cut(df['revol_util'], bins=5,precision =0,labels=['0-20','20-40','40-60','60-80','80-100'])\n",
    "df['total_acc_groups'] = pd.cut(df['total_acc'], bins=5,precision =0,labels=['2-20','20-37','37-55','55-74','74-90'])\n",
    "df['annual_inc_groups'] = pd.cut(df['annual_inc'], bins=5,precision =0,labels =['3k-31k','31k-58k','58k-85k','85k-112k','112k-140k'])\n",
    "df['installment_groups'] = pd.cut(df['installment'], bins=10,precision =0,labels=['14-145','145-274','274-403','403-531','531-660','660-789','789-918','918-1047','1047-1176','1176-1305'])\n",
    "df['funded_amnt_inv_group'] = pd.cut(df['funded_amnt_inv'], bins=7,labels=['0-5k','5k-10k','10k-15k','15k-20k','20k-25k','25k-30k','30k-35k'])\n",
    "df['loan_amnt_groups'] = pd.cut(df['loan_amnt'], bins=7,precision =0,labels=['0-5k','5k-10k','10k-15k','15k-20k','20k-25k','25k-30k','30k-35k'])\n",
    "df['dti_groups'] = pd.cut(df['dti'], bins=5,precision =0,labels=['0-6','6-12','12-18','18-24','24-30'])"
   ]
  },
  {
   "cell_type": "code",
   "execution_count": 342,
   "id": "11e22a2d",
   "metadata": {},
   "outputs": [
    {
     "data": {
      "text/html": [
       "<div>\n",
       "<style scoped>\n",
       "    .dataframe tbody tr th:only-of-type {\n",
       "        vertical-align: middle;\n",
       "    }\n",
       "\n",
       "    .dataframe tbody tr th {\n",
       "        vertical-align: top;\n",
       "    }\n",
       "\n",
       "    .dataframe thead th {\n",
       "        text-align: right;\n",
       "    }\n",
       "</style>\n",
       "<table border=\"1\" class=\"dataframe\">\n",
       "  <thead>\n",
       "    <tr style=\"text-align: right;\">\n",
       "      <th></th>\n",
       "      <th>loan_amnt</th>\n",
       "      <th>funded_amnt_inv</th>\n",
       "      <th>term</th>\n",
       "      <th>int_rate</th>\n",
       "      <th>installment</th>\n",
       "      <th>grade</th>\n",
       "      <th>sub_grade</th>\n",
       "      <th>emp_length</th>\n",
       "      <th>home_ownership</th>\n",
       "      <th>annual_inc</th>\n",
       "      <th>...</th>\n",
       "      <th>loan_status_num</th>\n",
       "      <th>int_rate_groups</th>\n",
       "      <th>open_acc_groups</th>\n",
       "      <th>revol_util_groups</th>\n",
       "      <th>total_acc_groups</th>\n",
       "      <th>annual_inc_groups</th>\n",
       "      <th>installment_groups</th>\n",
       "      <th>funded_amnt_inv_group</th>\n",
       "      <th>loan_amnt_groups</th>\n",
       "      <th>dti_groups</th>\n",
       "    </tr>\n",
       "  </thead>\n",
       "  <tbody>\n",
       "    <tr>\n",
       "      <th>0</th>\n",
       "      <td>5000</td>\n",
       "      <td>4975.0</td>\n",
       "      <td>36 months</td>\n",
       "      <td>10.65</td>\n",
       "      <td>162.87</td>\n",
       "      <td>B</td>\n",
       "      <td>B2</td>\n",
       "      <td>10</td>\n",
       "      <td>RENT</td>\n",
       "      <td>24000.0</td>\n",
       "      <td>...</td>\n",
       "      <td>0</td>\n",
       "      <td>9%-13%</td>\n",
       "      <td>2-10</td>\n",
       "      <td>80-100</td>\n",
       "      <td>2-20</td>\n",
       "      <td>3k-31k</td>\n",
       "      <td>145-274</td>\n",
       "      <td>0-5k</td>\n",
       "      <td>0-5k</td>\n",
       "      <td>24-30</td>\n",
       "    </tr>\n",
       "    <tr>\n",
       "      <th>1</th>\n",
       "      <td>2500</td>\n",
       "      <td>2500.0</td>\n",
       "      <td>60 months</td>\n",
       "      <td>15.27</td>\n",
       "      <td>59.83</td>\n",
       "      <td>C</td>\n",
       "      <td>C4</td>\n",
       "      <td>0</td>\n",
       "      <td>RENT</td>\n",
       "      <td>30000.0</td>\n",
       "      <td>...</td>\n",
       "      <td>1</td>\n",
       "      <td>13%-17%</td>\n",
       "      <td>2-10</td>\n",
       "      <td>0-20</td>\n",
       "      <td>2-20</td>\n",
       "      <td>3k-31k</td>\n",
       "      <td>14-145</td>\n",
       "      <td>0-5k</td>\n",
       "      <td>0-5k</td>\n",
       "      <td>0-6</td>\n",
       "    </tr>\n",
       "    <tr>\n",
       "      <th>2</th>\n",
       "      <td>2400</td>\n",
       "      <td>2400.0</td>\n",
       "      <td>36 months</td>\n",
       "      <td>15.96</td>\n",
       "      <td>84.33</td>\n",
       "      <td>C</td>\n",
       "      <td>C5</td>\n",
       "      <td>10</td>\n",
       "      <td>RENT</td>\n",
       "      <td>12252.0</td>\n",
       "      <td>...</td>\n",
       "      <td>0</td>\n",
       "      <td>13%-17%</td>\n",
       "      <td>2-10</td>\n",
       "      <td>80-100</td>\n",
       "      <td>2-20</td>\n",
       "      <td>3k-31k</td>\n",
       "      <td>14-145</td>\n",
       "      <td>0-5k</td>\n",
       "      <td>0-5k</td>\n",
       "      <td>6-12</td>\n",
       "    </tr>\n",
       "    <tr>\n",
       "      <th>3</th>\n",
       "      <td>10000</td>\n",
       "      <td>10000.0</td>\n",
       "      <td>36 months</td>\n",
       "      <td>13.49</td>\n",
       "      <td>339.31</td>\n",
       "      <td>C</td>\n",
       "      <td>C1</td>\n",
       "      <td>10</td>\n",
       "      <td>RENT</td>\n",
       "      <td>49200.0</td>\n",
       "      <td>...</td>\n",
       "      <td>0</td>\n",
       "      <td>13%-17%</td>\n",
       "      <td>2-10</td>\n",
       "      <td>20-40</td>\n",
       "      <td>20-37</td>\n",
       "      <td>31k-58k</td>\n",
       "      <td>274-403</td>\n",
       "      <td>5k-10k</td>\n",
       "      <td>5k-10k</td>\n",
       "      <td>18-24</td>\n",
       "    </tr>\n",
       "    <tr>\n",
       "      <th>5</th>\n",
       "      <td>5000</td>\n",
       "      <td>5000.0</td>\n",
       "      <td>36 months</td>\n",
       "      <td>7.90</td>\n",
       "      <td>156.46</td>\n",
       "      <td>A</td>\n",
       "      <td>A4</td>\n",
       "      <td>3</td>\n",
       "      <td>RENT</td>\n",
       "      <td>36000.0</td>\n",
       "      <td>...</td>\n",
       "      <td>0</td>\n",
       "      <td>5%-9%</td>\n",
       "      <td>2-10</td>\n",
       "      <td>20-40</td>\n",
       "      <td>2-20</td>\n",
       "      <td>31k-58k</td>\n",
       "      <td>145-274</td>\n",
       "      <td>0-5k</td>\n",
       "      <td>0-5k</td>\n",
       "      <td>6-12</td>\n",
       "    </tr>\n",
       "  </tbody>\n",
       "</table>\n",
       "<p>5 rows × 31 columns</p>\n",
       "</div>"
      ],
      "text/plain": [
       "   loan_amnt  funded_amnt_inv        term  int_rate  installment grade  \\\n",
       "0       5000           4975.0   36 months     10.65       162.87     B   \n",
       "1       2500           2500.0   60 months     15.27        59.83     C   \n",
       "2       2400           2400.0   36 months     15.96        84.33     C   \n",
       "3      10000          10000.0   36 months     13.49       339.31     C   \n",
       "5       5000           5000.0   36 months      7.90       156.46     A   \n",
       "\n",
       "  sub_grade  emp_length home_ownership  annual_inc  ... loan_status_num  \\\n",
       "0        B2          10           RENT     24000.0  ...               0   \n",
       "1        C4           0           RENT     30000.0  ...               1   \n",
       "2        C5          10           RENT     12252.0  ...               0   \n",
       "3        C1          10           RENT     49200.0  ...               0   \n",
       "5        A4           3           RENT     36000.0  ...               0   \n",
       "\n",
       "  int_rate_groups open_acc_groups revol_util_groups  total_acc_groups  \\\n",
       "0          9%-13%            2-10            80-100              2-20   \n",
       "1         13%-17%            2-10              0-20              2-20   \n",
       "2         13%-17%            2-10            80-100              2-20   \n",
       "3         13%-17%            2-10             20-40             20-37   \n",
       "5           5%-9%            2-10             20-40              2-20   \n",
       "\n",
       "  annual_inc_groups  installment_groups  funded_amnt_inv_group  \\\n",
       "0            3k-31k             145-274                   0-5k   \n",
       "1            3k-31k              14-145                   0-5k   \n",
       "2            3k-31k              14-145                   0-5k   \n",
       "3           31k-58k             274-403                 5k-10k   \n",
       "5           31k-58k             145-274                   0-5k   \n",
       "\n",
       "   loan_amnt_groups  dti_groups  \n",
       "0              0-5k       24-30  \n",
       "1              0-5k         0-6  \n",
       "2              0-5k        6-12  \n",
       "3            5k-10k       18-24  \n",
       "5              0-5k        6-12  \n",
       "\n",
       "[5 rows x 31 columns]"
      ]
     },
     "execution_count": 342,
     "metadata": {},
     "output_type": "execute_result"
    }
   ],
   "source": [
    "# Viewing the new df\n",
    "df.head()"
   ]
  },
  {
   "cell_type": "code",
   "execution_count": 343,
   "id": "c1d7db06",
   "metadata": {},
   "outputs": [
    {
     "data": {
      "image/png": "[encoded data removed]",
      "text/plain": [
       "<Figure size 504x288 with 1 Axes>"
      ]
     },
     "metadata": {
      "needs_background": "light"
     },
     "output_type": "display_data"
    }
   ],
   "source": [
    "# Analyzing the interest rates groups with the defaulter's. It shows 9% to 17% are having high chance of defaulter\n",
    "plt.subplots(figsize = (7,4))\n",
    "sns.countplot(x='int_rate_groups', data=df[df.loan_status == 'Charged Off'])\n",
    "plt.show()"
   ]
  },
  {
   "cell_type": "code",
   "execution_count": 344,
   "id": "577f0235",
   "metadata": {},
   "outputs": [
    {
     "data": {
      "image/png": "[encoded data removed]",
      "text/plain": [
       "<Figure size 504x288 with 1 Axes>"
      ]
     },
     "metadata": {
      "needs_background": "light"
     },
     "output_type": "display_data"
    }
   ],
   "source": [
    "# Analyzing years of employemt\n",
    "plt.subplots(figsize = (7,4))\n",
    "sns.countplot(x='emp_length', data=df[df.loan_status == 'Charged Off'])\n",
    "plt.show()"
   ]
  },
  {
   "cell_type": "code",
   "execution_count": 345,
   "id": "f330a21c",
   "metadata": {},
   "outputs": [
    {
     "data": {
      "image/png": "[encoded data removed]",
      "text/plain": [
       "<Figure size 504x288 with 1 Axes>"
      ]
     },
     "metadata": {
      "needs_background": "light"
     },
     "output_type": "display_data"
    }
   ],
   "source": [
    "# Analysing open_account_groups\n",
    "fig,ax=plt.subplots(figsize = (7,4))\n",
    "ax.set_yscale('log')\n",
    "sns.countplot(x='open_acc_groups', data=df[df.loan_status == 'Charged Off'])\n",
    "plt.show()"
   ]
  },
  {
   "cell_type": "code",
   "execution_count": 346,
   "id": "184da6d7",
   "metadata": {},
   "outputs": [
    {
     "data": {
      "image/png": "[encoded data removed]",
      "text/plain": [
       "<Figure size 432x288 with 1 Axes>"
      ]
     },
     "metadata": {
      "needs_background": "light"
     },
     "output_type": "display_data"
    }
   ],
   "source": [
    "# Analysing revol_util_groups\n",
    "sns.countplot(x='revol_util_groups', data=df[df.loan_status == 'Charged Off'])\n",
    "plt.show()"
   ]
  },
  {
   "cell_type": "code",
   "execution_count": 347,
   "id": "a9a68728",
   "metadata": {},
   "outputs": [
    {
     "data": {
      "image/png": "[encoded data removed]",
      "text/plain": [
       "<Figure size 504x288 with 1 Axes>"
      ]
     },
     "metadata": {
      "needs_background": "light"
     },
     "output_type": "display_data"
    }
   ],
   "source": [
    "# Analysing total_Acc_groups\n",
    "plt.subplots(figsize = (7,4))\n",
    "ax.set_yscale('log')\n",
    "sns.countplot(x='total_acc_groups', data=df[df.loan_status == 'Charged Off'])\n",
    "plt.show()"
   ]
  },
  {
   "cell_type": "code",
   "execution_count": 348,
   "id": "24d71ac6",
   "metadata": {},
   "outputs": [
    {
     "data": {
      "image/png": "[encoded data removed]",
      "text/plain": [
       "<Figure size 504x288 with 1 Axes>"
      ]
     },
     "metadata": {
      "needs_background": "light"
     },
     "output_type": "display_data"
    }
   ],
   "source": [
    "# Analysing the annual_income groups\n",
    "plt.subplots(figsize = (7,4))\n",
    "sns.countplot(x='annual_inc_groups', data=df[df.loan_status == 'Charged Off'])\n",
    "plt.show()"
   ]
  },
  {
   "cell_type": "code",
   "execution_count": 349,
   "id": "8120c076",
   "metadata": {},
   "outputs": [
    {
     "data": {
      "image/png": "[encoded data removed]",
      "text/plain": [
       "<Figure size 504x288 with 1 Axes>"
      ]
     },
     "metadata": {
      "needs_background": "light"
     },
     "output_type": "display_data"
    }
   ],
   "source": [
    "# Analysing the funded amount\n",
    "plt.subplots(figsize = (7,4))\n",
    "ax.set_yscale('log')\n",
    "sns.countplot(x='funded_amnt_inv_group', data=df[df['loan_status']=='Charged Off'])\n",
    "plt.show()"
   ]
  },
  {
   "cell_type": "code",
   "execution_count": 350,
   "id": "8a28171e",
   "metadata": {},
   "outputs": [
    {
     "data": {
      "image/png": "[encoded data removed]",
      "text/plain": [
       "<Figure size 504x288 with 1 Axes>"
      ]
     },
     "metadata": {
      "needs_background": "light"
     },
     "output_type": "display_data"
    }
   ],
   "source": [
    "# Analysing the loan amount\n",
    "plt.subplots(figsize = (7,4))\n",
    "ax.set_yscale('log')\n",
    "sns.countplot(x='loan_amnt_groups', data=df[df['loan_status']=='Charged Off'])\n",
    "plt.show()"
   ]
  },
  {
   "cell_type": "code",
   "execution_count": 351,
   "id": "5586695c",
   "metadata": {},
   "outputs": [
    {
     "data": {
      "image/png": "[encoded data removed]",
      "text/plain": [
       "<Figure size 432x288 with 1 Axes>"
      ]
     },
     "metadata": {
      "needs_background": "light"
     },
     "output_type": "display_data"
    }
   ],
   "source": [
    "# analysing the dti\n",
    "sns.countplot(x='dti_groups', data=df[df['loan_status']=='Charged Off'])\n",
    "plt.show()"
   ]
  },
  {
   "cell_type": "markdown",
   "id": "bac46f40",
   "metadata": {},
   "source": [
    "### Analysing by Month and Year"
   ]
  },
  {
   "cell_type": "code",
   "execution_count": 352,
   "id": "4f185eaa",
   "metadata": {},
   "outputs": [],
   "source": [
    "## Extracting month and year\n",
    "df_month_year = df['issue_d'].str.partition(\"-\", True)     \n",
    "df['issue_month']=df_month_year[0]                       \n",
    "df['issue_year']='20' + df_month_year[2]"
   ]
  },
  {
   "cell_type": "code",
   "execution_count": 353,
   "id": "a3b500b7",
   "metadata": {},
   "outputs": [
    {
     "data": {
      "image/png": "[encoded data removed]",
      "text/plain": [
       "<Figure size 504x288 with 1 Axes>"
      ]
     },
     "metadata": {
      "needs_background": "light"
     },
     "output_type": "display_data"
    }
   ],
   "source": [
    "plt.figure(figsize=(7,4))\n",
    "sns.countplot(x='issue_month', data=df[df['loan_status']=='Charged Off'])\n",
    "plt.show()"
   ]
  },
  {
   "cell_type": "code",
   "execution_count": 354,
   "id": "2133b2cc",
   "metadata": {},
   "outputs": [
    {
     "data": {
      "image/png": "[encoded data removed]",
      "text/plain": [
       "<Figure size 504x288 with 1 Axes>"
      ]
     },
     "metadata": {
      "needs_background": "light"
     },
     "output_type": "display_data"
    }
   ],
   "source": [
    "plt.figure(figsize=(7,4))\n",
    "sns.countplot(x='issue_year', data=df[df['loan_status']=='Charged Off'])\n",
    "plt.show()"
   ]
  },
  {
   "cell_type": "markdown",
   "id": "eb7bd25a",
   "metadata": {},
   "source": [
    "###  The above analysis shows us that maximum number of defaults occured when the loan was issued in December.\n",
    "### Loan issued in the year 2011 also performed poorly as compared to other years. (maybe due to financial issues)\n",
    "### Based on the above observations, we can say that there is more chance of defaulting in following cases : \n",
    "- Borrower who use the loan to clear other debts\n",
    "- When funded amount by investor is between 5000-10000\n",
    "- Borrower having house_ownership as 'RENT'\n",
    "- Borrower with employement length of 10\n",
    "- Borrower who have an income of range 31201 - 58402\n",
    "- Borrower who have 20-37 open_acc\n",
    "- Borrower who receive interest at the rate of 13-17%\n",
    "- Loan amount is between 5429 - 10357\n",
    "- Dti is between 12-18\n",
    "- Grade is 'B'\n",
    "- And a total grade of 'B5' level.\n",
    "- When the purpose is 'debt_consolidation'\n",
    "- When monthly installments are between 145-274\n",
    "- When the number of derogatory public records is 0\n",
    "- When the no of enquiries in last 6 months is 0\n",
    "- When the loan status is Not verified\n",
    "- Term of 36 months\n",
    "- In the last months of the years\n",
    "- Loans taken in 2011 (maybe due to some financial issues at that time)\n",
    "\n",
    "\n",
    "\n",
    "\n",
    "\n"
   ]
  },
  {
   "cell_type": "markdown",
   "id": "f7c8c591",
   "metadata": {},
   "source": [
    "## Bivariate \n",
    "\n",
    "### Loan Amount with other columns"
   ]
  },
  {
   "cell_type": "code",
   "execution_count": 355,
   "id": "94722fdc",
   "metadata": {},
   "outputs": [
    {
     "data": {
      "image/png": "[encoded data removed]",
      "text/plain": [
       "<Figure size 720x504 with 1 Axes>"
      ]
     },
     "metadata": {
      "needs_background": "light"
     },
     "output_type": "display_data"
    }
   ],
   "source": [
    "plt.figure(figsize=(10,7))\n",
    "sns.barplot(data =df,x='loan_amnt_groups', y='int_rate', hue ='loan_status',palette=\"Set2\")\n",
    "plt.show()"
   ]
  },
  {
   "cell_type": "code",
   "execution_count": 356,
   "id": "c1842c3b",
   "metadata": {},
   "outputs": [
    {
     "data": {
      "image/png": "[encoded data removed]",
      "text/plain": [
       "<Figure size 720x504 with 1 Axes>"
      ]
     },
     "metadata": {
      "needs_background": "light"
     },
     "output_type": "display_data"
    }
   ],
   "source": [
    "plt.figure(figsize=(10,7))\n",
    "sns.barplot(data =df,x='loan_amnt', y='purpose', hue ='loan_status',palette=\"Set2\")\n",
    "plt.show()"
   ]
  },
  {
   "cell_type": "code",
   "execution_count": 357,
   "id": "c75ed922",
   "metadata": {},
   "outputs": [
    {
     "data": {
      "image/png": "[encoded data removed]",
      "text/plain": [
       "<Figure size 720x504 with 1 Axes>"
      ]
     },
     "metadata": {
      "needs_background": "light"
     },
     "output_type": "display_data"
    }
   ],
   "source": [
    "plt.figure(figsize=(10,7))\n",
    "sns.barplot(data =df,x='loan_amnt', y='home_ownership', hue ='loan_status',palette=\"Set2\")\n",
    "plt.show()"
   ]
  },
  {
   "cell_type": "code",
   "execution_count": 358,
   "id": "f03f66bf",
   "metadata": {},
   "outputs": [
    {
     "data": {
      "image/png": "[encoded data removed]",
      "text/plain": [
       "<Figure size 720x504 with 1 Axes>"
      ]
     },
     "metadata": {
      "needs_background": "light"
     },
     "output_type": "display_data"
    }
   ],
   "source": [
    "plt.figure(figsize=(10,7))\n",
    "sns.lineplot(data =df,y='loan_amnt', x='issue_month', hue ='loan_status',palette=\"Set2\")\n",
    "plt.show()"
   ]
  },
  {
   "cell_type": "code",
   "execution_count": 359,
   "id": "38430db0",
   "metadata": {},
   "outputs": [
    {
     "data": {
      "image/png": "[encoded data removed]",
      "text/plain": [
       "<Figure size 720x504 with 1 Axes>"
      ]
     },
     "metadata": {
      "needs_background": "light"
     },
     "output_type": "display_data"
    }
   ],
   "source": [
    "plt.figure(figsize=(10,7))\n",
    "sns.lineplot(data =df,y='loan_amnt', x='issue_year', hue ='loan_status',palette=\"Set2\")\n",
    "plt.show()"
   ]
  },
  {
   "cell_type": "code",
   "execution_count": 360,
   "id": "5c8ac950",
   "metadata": {},
   "outputs": [
    {
     "data": {
      "image/png": "[encoded data removed]",
      "text/plain": [
       "<Figure size 720x504 with 1 Axes>"
      ]
     },
     "metadata": {
      "needs_background": "light"
     },
     "output_type": "display_data"
    }
   ],
   "source": [
    "plt.figure(figsize=(10,7))\n",
    "sns.barplot(data =df,x='loan_amnt', y='grade', hue ='loan_status',palette=\"Set2\")\n",
    "plt.show()"
   ]
  },
  {
   "cell_type": "code",
   "execution_count": 361,
   "id": "e92fd1f8",
   "metadata": {},
   "outputs": [
    {
     "data": {
      "image/png": "[encoded data removed]",
      "text/plain": [
       "<Figure size 720x504 with 1 Axes>"
      ]
     },
     "metadata": {
      "needs_background": "light"
     },
     "output_type": "display_data"
    }
   ],
   "source": [
    "plt.figure(figsize=(10,7))\n",
    "sns.barplot(data =df,y='loan_amnt', x='emp_length', hue ='loan_status',palette=\"Set2\")\n",
    "plt.show()"
   ]
  },
  {
   "cell_type": "code",
   "execution_count": 362,
   "id": "0e57d903",
   "metadata": {},
   "outputs": [
    {
     "data": {
      "image/png": "[encoded data removed]",
      "text/plain": [
       "<Figure size 720x504 with 1 Axes>"
      ]
     },
     "metadata": {
      "needs_background": "light"
     },
     "output_type": "display_data"
    }
   ],
   "source": [
    "plt.figure(figsize=(10,7))\n",
    "sns.barplot(data =df,y='loan_amnt', x='verification_status', hue ='loan_status',palette=\"Set2\")\n",
    "plt.show()"
   ]
  },
  {
   "cell_type": "markdown",
   "id": "505fb160",
   "metadata": {},
   "source": [
    "#### Longer years of work is approving higher amount of loans.. Verified loan applicaions have higher loan amounts. which shows lenders are verifying the applications before sanctioning a significant amount of loan."
   ]
  },
  {
   "cell_type": "code",
   "execution_count": 363,
   "id": "b7f885ab",
   "metadata": {},
   "outputs": [
    {
     "data": {
      "image/png": "[encoded data removed]",
      "text/plain": [
       "<Figure size 720x504 with 1 Axes>"
      ]
     },
     "metadata": {
      "needs_background": "light"
     },
     "output_type": "display_data"
    }
   ],
   "source": [
    "plt.figure(figsize=(10,7))\n",
    "sns.barplot(data =df,x='int_rate', y='grade', hue ='loan_status',palette=\"Set2\")\n",
    "plt.show()"
   ]
  },
  {
   "cell_type": "code",
   "execution_count": 364,
   "id": "e41ffa41",
   "metadata": {},
   "outputs": [
    {
     "data": {
      "text/plain": [
       "<Figure size 432x288 with 0 Axes>"
      ]
     },
     "metadata": {},
     "output_type": "display_data"
    },
    {
     "data": {
      "image/png": "[encoded data removed]",
      "text/plain": [
       "<Figure size 456.375x360 with 1 Axes>"
      ]
     },
     "metadata": {
      "needs_background": "light"
     },
     "output_type": "display_data"
    }
   ],
   "source": [
    "plt.tight_layout()\n",
    "sns.catplot(data =df,y ='int_rate', x ='loan_amnt_groups', hue ='loan_status',palette=\"pastel\",kind = 'bar')\n",
    "plt.show()"
   ]
  },
  {
   "cell_type": "code",
   "execution_count": 365,
   "id": "586417f0",
   "metadata": {},
   "outputs": [
    {
     "data": {
      "image/png": "[encoded data removed]",
      "text/plain": [
       "<Figure size 456.375x360 with 1 Axes>"
      ]
     },
     "metadata": {
      "needs_background": "light"
     },
     "output_type": "display_data"
    }
   ],
   "source": [
    "sns.catplot(x = 'term', y = 'loan_amnt', data = df,hue = 'loan_status', kind = 'bar')\n",
    "plt.show()"
   ]
  },
  {
   "cell_type": "markdown",
   "id": "621b7962",
   "metadata": {},
   "source": [
    "### Interest Rate is pretty high for defaulter loans. It is a good point to make."
   ]
  },
  {
   "cell_type": "markdown",
   "id": "29006ddf",
   "metadata": {},
   "source": [
    "## Annual Income vs Other"
   ]
  },
  {
   "cell_type": "code",
   "execution_count": 366,
   "id": "52e00d60",
   "metadata": {},
   "outputs": [
    {
     "data": {
      "image/png": "[encoded data removed]",
      "text/plain": [
       "<Figure size 720x504 with 1 Axes>"
      ]
     },
     "metadata": {
      "needs_background": "light"
     },
     "output_type": "display_data"
    }
   ],
   "source": [
    "# Annual income vs loan purpose\n",
    "plt.figure(figsize=(10,7))\n",
    "sns.barplot(data =df,x='purpose', y='annual_inc', hue ='loan_status',palette=\"Set2\")\n",
    "plt.xticks(rotation=90)\n",
    "plt.show()"
   ]
  },
  {
   "cell_type": "markdown",
   "id": "4968765e",
   "metadata": {},
   "source": [
    "#### Since highest number of defaulters is for \"debt_consolation\", the annual income of those who applied isn't the highest. \n",
    "- Borrowers with more salary mostly applied loans for \"home_improvment\", \"house\", \"renewable_energy\" and \"small_businesses\""
   ]
  },
  {
   "cell_type": "code",
   "execution_count": 367,
   "id": "b597303c",
   "metadata": {},
   "outputs": [
    {
     "data": {
      "image/png": "[encoded data removed]",
      "text/plain": [
       "<Figure size 720x504 with 1 Axes>"
      ]
     },
     "metadata": {
      "needs_background": "light"
     },
     "output_type": "display_data"
    }
   ],
   "source": [
    "# Analysing the anuual income with home ownership\n",
    "plt.figure(figsize=(10,7))\n",
    "sns.barplot(data =df,x='annual_inc', y='home_ownership', hue ='loan_status',palette=\"Set2\")\n",
    "plt.show()"
   ]
  },
  {
   "cell_type": "code",
   "execution_count": 368,
   "id": "10b93155",
   "metadata": {},
   "outputs": [
    {
     "data": {
      "image/png": "[encoded data removed]",
      "text/plain": [
       "<Figure size 720x504 with 1 Axes>"
      ]
     },
     "metadata": {
      "needs_background": "light"
     },
     "output_type": "display_data"
    }
   ],
   "source": [
    "# Analysing the loan amount and annual income\n",
    "plt.figure(figsize=(10,7))\n",
    "sns.barplot(x = \"loan_amnt\", y = \"annual_inc_groups\", hue = 'loan_status', data = df)\n",
    "plt.show()"
   ]
  },
  {
   "cell_type": "code",
   "execution_count": 369,
   "id": "428e4b27",
   "metadata": {},
   "outputs": [
    {
     "data": {
      "image/png": "[encoded data removed]",
      "text/plain": [
       "<Figure size 720x504 with 1 Axes>"
      ]
     },
     "metadata": {
      "needs_background": "light"
     },
     "output_type": "display_data"
    }
   ],
   "source": [
    "# Analysing the annual income anf interest rate\n",
    "plt.figure(figsize=(10,7))\n",
    "sns.barplot(data =df,x='annual_inc', y='int_rate_groups', hue ='loan_status',palette=\"Set2\")\n",
    "plt.show()"
   ]
  },
  {
   "cell_type": "markdown",
   "id": "4ca5079f",
   "metadata": {},
   "source": [
    "# Observations\n",
    "\n",
    "### The above analysis with respect to the charged off loans. There is a more probability of defaulting when : \n",
    "\n",
    "- Borrower taking loan for 'home improvement' and have income of 60k -70k\n",
    "- When grade is F and loan amount is between 15k-20k\n",
    "- When the loan is verified and loan amount is above 16k\n",
    "- When employment length is 10yrs and loan amount is 12k-14k \n",
    "- For grade G and interest rate above 20%\n",
    "- Borrower who receive interest at the rate of 21-24% and have an income of 70k-80k\n",
    "- Borrower whose home ownership is 'MORTGAGE and have income of 60-70k\n",
    "- Borrower whose home ownership is 'MORTGAGE and have loan of 14-16k\n",
    "- Applicants who have taken a loan in the range 30k - 35k and are charged interest rate of 15-17.5 %\n",
    "- Borrower who have taken a loan for small business and the loan amount is greater than 14k\n"
   ]
  },
  {
   "cell_type": "markdown",
   "id": "4ce8e829",
   "metadata": {},
   "source": [
    "# We have arrived at our end of EDA. Thank You\n",
    "### Note : Above observations are based on my analysis. "
   ]
  }
 ],
 "metadata": {
  "kernelspec": {
   "display_name": "Python 3 (ipykernel)",
   "language": "python",
   "name": "python3"
  },
  "language_info": {
   "codemirror_mode": {
    "name": "ipython",
    "version": 3
   },
   "file_extension": ".py",
   "mimetype": "text/x-python",
   "name": "python",
   "nbconvert_exporter": "python",
   "pygments_lexer": "ipython3",
   "version": "3.9.7"
  }
 },
 "nbformat": 4,
 "nbformat_minor": 5
}
